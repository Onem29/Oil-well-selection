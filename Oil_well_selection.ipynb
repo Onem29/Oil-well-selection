{
 "cells": [
  {
   "cell_type": "markdown",
   "id": "e294f146",
   "metadata": {},
   "source": [
    "# Проект \"Выбор локаций для скважин\""
   ]
  },
  {
   "cell_type": "markdown",
   "id": "89333007",
   "metadata": {
    "tags": []
   },
   "source": [
    "## 1. Загрузка и подготовка данных\n",
    "### 1.1 Чтение данных "
   ]
  },
  {
   "cell_type": "markdown",
   "id": "8448783d-1d5c-4be6-aeb0-a7641747f21b",
   "metadata": {},
   "source": [
    "Импорт библиотек"
   ]
  },
  {
   "cell_type": "code",
   "execution_count": 61,
   "id": "cb406447",
   "metadata": {},
   "outputs": [],
   "source": [
    "import os\n",
    "\n",
    "import pandas as pd\n",
    "import numpy as np\n",
    "import matplotlib.pyplot as plt\n",
    "import seaborn as sns\n",
    "\n",
    "from pandas_profiling import ProfileReport\n",
    "\n",
    "from sklearn.linear_model import LinearRegression\n",
    "from sklearn.model_selection import train_test_split, cross_val_score\n",
    "from sklearn.metrics import mean_squared_error\n",
    "\n",
    "sns.set_style(style='darkgrid')\n",
    "pd.set_option('precision', 3)"
   ]
  },
  {
   "cell_type": "markdown",
   "id": "a6ffb207",
   "metadata": {},
   "source": [
    "Чтение данных о геологоразведке трёх регионах"
   ]
  },
  {
   "cell_type": "code",
   "execution_count": 62,
   "id": "57a725c8",
   "metadata": {},
   "outputs": [],
   "source": [
    "region_1 = pd.read_csv('.\\datasets\\geo_data_0.csv')\n",
    "region_2 = pd.read_csv('.\\datasets\\geo_data_1.csv')\n",
    "region_3 = pd.read_csv('.\\datasets\\geo_data_2.csv')\n",
    "\n",
    "region_list = [region_1, region_2, region_3]"
   ]
  },
  {
   "cell_type": "markdown",
   "id": "33fc6ef4",
   "metadata": {},
   "source": [
    "Функция, выводящая основную информацию о датафрейме"
   ]
  },
  {
   "cell_type": "code",
   "execution_count": 63,
   "id": "970df3aa",
   "metadata": {},
   "outputs": [],
   "source": [
    "def show_main_info(data, info=True, describe=True, head=False, isna=False, dupl=False):\n",
    "    \n",
    "    if info:\n",
    "        # выводит информацию о датафрейме\n",
    "        print('\\n\\u001b[4m\\u001b[1mОсновная информация о датафрейме\\u001b[0m\\n')\n",
    "        print(data.info())\n",
    "\n",
    "    if describe:\n",
    "        # выводит основные описательные характеристики\n",
    "        print('\\n\\u001b[4m\\u001b[1mОсновные описательные характеристики датафрейма\\u001b[0m')\n",
    "        display(data.describe())\n",
    "\n",
    "    if head:\n",
    "        # выводит первые 5 строк\n",
    "        print('\\n\\u001b[4m\\u001b[1mПервые 5 строк датафрейме\\u001b[0m')\n",
    "        display(data.head())\n",
    "\n",
    "    if isna:\n",
    "        # проверяет наличие пустых ячеек\n",
    "        print('\\n\\u001b[4m\\u001b[1mКоличество пропущенных значений в столбцах датафрейма\\u001b[0m')\n",
    "        display(data.isna().sum())\n",
    "\n",
    "    if dupl:\n",
    "        # проверяет наличие явных дуликатов\n",
    "        print('\\n\\u001b[4m\\u001b[1mКоличество дубликатов в столбце \"id\" датафрейма равно:\\u001b[0m {}\\n'.format(\n",
    "        data.duplicated().sum()))"
   ]
  },
  {
   "cell_type": "markdown",
   "id": "6a88abd1",
   "metadata": {
    "tags": []
   },
   "source": [
    "### 1.2 Предварительный анализ датафреймов"
   ]
  },
  {
   "cell_type": "markdown",
   "id": "a30bc804-3559-4d59-a3ea-476896b045f6",
   "metadata": {},
   "source": [
    "Для предварительного анализа используется созданная функция \"show_main_info\" и библиотекой pandas_profiling"
   ]
  },
  {
   "cell_type": "markdown",
   "id": "396171f1-1d44-4823-a102-5061d3143974",
   "metadata": {
    "tags": []
   },
   "source": [
    "#### 1.2.1 Первый регион"
   ]
  },
  {
   "cell_type": "markdown",
   "id": "0974a9f6-8c8d-4b89-8c72-9382cbb42460",
   "metadata": {},
   "source": [
    "profile_r1 = ProfileReport(region_1, title=\"Report of Region 1\", progress_bar=False)\n",
    "profile_r1.to_notebook_iframe()"
   ]
  },
  {
   "cell_type": "code",
   "execution_count": 64,
   "id": "7b088574",
   "metadata": {
    "scrolled": true,
    "tags": []
   },
   "outputs": [
    {
     "name": "stdout",
     "output_type": "stream",
     "text": [
      "\n",
      "\u001b[4m\u001b[1mОсновная информация о датафрейме\u001b[0m\n",
      "\n",
      "<class 'pandas.core.frame.DataFrame'>\n",
      "RangeIndex: 100000 entries, 0 to 99999\n",
      "Data columns (total 5 columns):\n",
      " #   Column   Non-Null Count   Dtype  \n",
      "---  ------   --------------   -----  \n",
      " 0   id       100000 non-null  object \n",
      " 1   f0       100000 non-null  float64\n",
      " 2   f1       100000 non-null  float64\n",
      " 3   f2       100000 non-null  float64\n",
      " 4   product  100000 non-null  float64\n",
      "dtypes: float64(4), object(1)\n",
      "memory usage: 3.8+ MB\n",
      "None\n",
      "\n",
      "\u001b[4m\u001b[1mОсновные описательные характеристики датафрейма\u001b[0m\n"
     ]
    },
    {
     "data": {
      "text/html": [
       "<div>\n",
       "<style scoped>\n",
       "    .dataframe tbody tr th:only-of-type {\n",
       "        vertical-align: middle;\n",
       "    }\n",
       "\n",
       "    .dataframe tbody tr th {\n",
       "        vertical-align: top;\n",
       "    }\n",
       "\n",
       "    .dataframe thead th {\n",
       "        text-align: right;\n",
       "    }\n",
       "</style>\n",
       "<table border=\"1\" class=\"dataframe\">\n",
       "  <thead>\n",
       "    <tr style=\"text-align: right;\">\n",
       "      <th></th>\n",
       "      <th>f0</th>\n",
       "      <th>f1</th>\n",
       "      <th>f2</th>\n",
       "      <th>product</th>\n",
       "    </tr>\n",
       "  </thead>\n",
       "  <tbody>\n",
       "    <tr>\n",
       "      <th>count</th>\n",
       "      <td>100000.000</td>\n",
       "      <td>100000.000</td>\n",
       "      <td>100000.000</td>\n",
       "      <td>100000.000</td>\n",
       "    </tr>\n",
       "    <tr>\n",
       "      <th>mean</th>\n",
       "      <td>0.500</td>\n",
       "      <td>0.250</td>\n",
       "      <td>2.503</td>\n",
       "      <td>92.500</td>\n",
       "    </tr>\n",
       "    <tr>\n",
       "      <th>std</th>\n",
       "      <td>0.872</td>\n",
       "      <td>0.504</td>\n",
       "      <td>3.248</td>\n",
       "      <td>44.289</td>\n",
       "    </tr>\n",
       "    <tr>\n",
       "      <th>min</th>\n",
       "      <td>-1.409</td>\n",
       "      <td>-0.848</td>\n",
       "      <td>-12.088</td>\n",
       "      <td>0.000</td>\n",
       "    </tr>\n",
       "    <tr>\n",
       "      <th>25%</th>\n",
       "      <td>-0.073</td>\n",
       "      <td>-0.201</td>\n",
       "      <td>0.288</td>\n",
       "      <td>56.498</td>\n",
       "    </tr>\n",
       "    <tr>\n",
       "      <th>50%</th>\n",
       "      <td>0.502</td>\n",
       "      <td>0.250</td>\n",
       "      <td>2.516</td>\n",
       "      <td>91.850</td>\n",
       "    </tr>\n",
       "    <tr>\n",
       "      <th>75%</th>\n",
       "      <td>1.074</td>\n",
       "      <td>0.701</td>\n",
       "      <td>4.715</td>\n",
       "      <td>128.564</td>\n",
       "    </tr>\n",
       "    <tr>\n",
       "      <th>max</th>\n",
       "      <td>2.362</td>\n",
       "      <td>1.344</td>\n",
       "      <td>16.004</td>\n",
       "      <td>185.364</td>\n",
       "    </tr>\n",
       "  </tbody>\n",
       "</table>\n",
       "</div>"
      ],
      "text/plain": [
       "               f0          f1          f2     product\n",
       "count  100000.000  100000.000  100000.000  100000.000\n",
       "mean        0.500       0.250       2.503      92.500\n",
       "std         0.872       0.504       3.248      44.289\n",
       "min        -1.409      -0.848     -12.088       0.000\n",
       "25%        -0.073      -0.201       0.288      56.498\n",
       "50%         0.502       0.250       2.516      91.850\n",
       "75%         1.074       0.701       4.715     128.564\n",
       "max         2.362       1.344      16.004     185.364"
      ]
     },
     "metadata": {},
     "output_type": "display_data"
    }
   ],
   "source": [
    "show_main_info(region_1)"
   ]
  },
  {
   "cell_type": "markdown",
   "id": "ee765769-8546-4991-aca2-e8dcfc6f51ba",
   "metadata": {
    "tags": []
   },
   "source": [
    "#### 1.2.2 Второй регион"
   ]
  },
  {
   "cell_type": "markdown",
   "id": "f717f2d5-08d2-46d8-beb8-590882277dcb",
   "metadata": {},
   "source": [
    "profile_r2 = ProfileReport(region_2, title=\"Report of Region 2\", progress_bar=False)\n",
    "profile_r2.to_notebook_iframe()"
   ]
  },
  {
   "cell_type": "code",
   "execution_count": 65,
   "id": "7c40251a-d644-4621-afdb-d8f931b9b798",
   "metadata": {},
   "outputs": [
    {
     "name": "stdout",
     "output_type": "stream",
     "text": [
      "\n",
      "\u001b[4m\u001b[1mОсновная информация о датафрейме\u001b[0m\n",
      "\n",
      "<class 'pandas.core.frame.DataFrame'>\n",
      "RangeIndex: 100000 entries, 0 to 99999\n",
      "Data columns (total 5 columns):\n",
      " #   Column   Non-Null Count   Dtype  \n",
      "---  ------   --------------   -----  \n",
      " 0   id       100000 non-null  object \n",
      " 1   f0       100000 non-null  float64\n",
      " 2   f1       100000 non-null  float64\n",
      " 3   f2       100000 non-null  float64\n",
      " 4   product  100000 non-null  float64\n",
      "dtypes: float64(4), object(1)\n",
      "memory usage: 3.8+ MB\n",
      "None\n",
      "\n",
      "\u001b[4m\u001b[1mОсновные описательные характеристики датафрейма\u001b[0m\n"
     ]
    },
    {
     "data": {
      "text/html": [
       "<div>\n",
       "<style scoped>\n",
       "    .dataframe tbody tr th:only-of-type {\n",
       "        vertical-align: middle;\n",
       "    }\n",
       "\n",
       "    .dataframe tbody tr th {\n",
       "        vertical-align: top;\n",
       "    }\n",
       "\n",
       "    .dataframe thead th {\n",
       "        text-align: right;\n",
       "    }\n",
       "</style>\n",
       "<table border=\"1\" class=\"dataframe\">\n",
       "  <thead>\n",
       "    <tr style=\"text-align: right;\">\n",
       "      <th></th>\n",
       "      <th>f0</th>\n",
       "      <th>f1</th>\n",
       "      <th>f2</th>\n",
       "      <th>product</th>\n",
       "    </tr>\n",
       "  </thead>\n",
       "  <tbody>\n",
       "    <tr>\n",
       "      <th>count</th>\n",
       "      <td>100000.000</td>\n",
       "      <td>100000.000</td>\n",
       "      <td>100000.000</td>\n",
       "      <td>100000.000</td>\n",
       "    </tr>\n",
       "    <tr>\n",
       "      <th>mean</th>\n",
       "      <td>1.141</td>\n",
       "      <td>-4.797</td>\n",
       "      <td>2.495</td>\n",
       "      <td>68.825</td>\n",
       "    </tr>\n",
       "    <tr>\n",
       "      <th>std</th>\n",
       "      <td>8.966</td>\n",
       "      <td>5.120</td>\n",
       "      <td>1.704</td>\n",
       "      <td>45.944</td>\n",
       "    </tr>\n",
       "    <tr>\n",
       "      <th>min</th>\n",
       "      <td>-31.610</td>\n",
       "      <td>-26.359</td>\n",
       "      <td>-0.018</td>\n",
       "      <td>0.000</td>\n",
       "    </tr>\n",
       "    <tr>\n",
       "      <th>25%</th>\n",
       "      <td>-6.299</td>\n",
       "      <td>-8.268</td>\n",
       "      <td>1.000</td>\n",
       "      <td>26.953</td>\n",
       "    </tr>\n",
       "    <tr>\n",
       "      <th>50%</th>\n",
       "      <td>1.153</td>\n",
       "      <td>-4.813</td>\n",
       "      <td>2.011</td>\n",
       "      <td>57.086</td>\n",
       "    </tr>\n",
       "    <tr>\n",
       "      <th>75%</th>\n",
       "      <td>8.621</td>\n",
       "      <td>-1.333</td>\n",
       "      <td>4.000</td>\n",
       "      <td>107.813</td>\n",
       "    </tr>\n",
       "    <tr>\n",
       "      <th>max</th>\n",
       "      <td>29.422</td>\n",
       "      <td>18.734</td>\n",
       "      <td>5.020</td>\n",
       "      <td>137.945</td>\n",
       "    </tr>\n",
       "  </tbody>\n",
       "</table>\n",
       "</div>"
      ],
      "text/plain": [
       "               f0          f1          f2     product\n",
       "count  100000.000  100000.000  100000.000  100000.000\n",
       "mean        1.141      -4.797       2.495      68.825\n",
       "std         8.966       5.120       1.704      45.944\n",
       "min       -31.610     -26.359      -0.018       0.000\n",
       "25%        -6.299      -8.268       1.000      26.953\n",
       "50%         1.153      -4.813       2.011      57.086\n",
       "75%         8.621      -1.333       4.000     107.813\n",
       "max        29.422      18.734       5.020     137.945"
      ]
     },
     "metadata": {},
     "output_type": "display_data"
    }
   ],
   "source": [
    "show_main_info(region_2)"
   ]
  },
  {
   "cell_type": "markdown",
   "id": "05a0a61f-0410-4751-936f-ce414b37d74f",
   "metadata": {
    "tags": []
   },
   "source": [
    "#### 1.2.3 Третий регион"
   ]
  },
  {
   "cell_type": "markdown",
   "id": "a286a7b0-0bad-499b-b201-ec6671855915",
   "metadata": {},
   "source": [
    "profile_r3 = ProfileReport(region_3, title=\"Report of Region 3\", progress_bar=False)\n",
    "profile_r3.to_notebook_iframe()"
   ]
  },
  {
   "cell_type": "code",
   "execution_count": 66,
   "id": "4a08fb86-158a-4140-bca1-c556e5a5f85e",
   "metadata": {},
   "outputs": [
    {
     "name": "stdout",
     "output_type": "stream",
     "text": [
      "\n",
      "\u001b[4m\u001b[1mОсновная информация о датафрейме\u001b[0m\n",
      "\n",
      "<class 'pandas.core.frame.DataFrame'>\n",
      "RangeIndex: 100000 entries, 0 to 99999\n",
      "Data columns (total 5 columns):\n",
      " #   Column   Non-Null Count   Dtype  \n",
      "---  ------   --------------   -----  \n",
      " 0   id       100000 non-null  object \n",
      " 1   f0       100000 non-null  float64\n",
      " 2   f1       100000 non-null  float64\n",
      " 3   f2       100000 non-null  float64\n",
      " 4   product  100000 non-null  float64\n",
      "dtypes: float64(4), object(1)\n",
      "memory usage: 3.8+ MB\n",
      "None\n",
      "\n",
      "\u001b[4m\u001b[1mОсновные описательные характеристики датафрейма\u001b[0m\n"
     ]
    },
    {
     "data": {
      "text/html": [
       "<div>\n",
       "<style scoped>\n",
       "    .dataframe tbody tr th:only-of-type {\n",
       "        vertical-align: middle;\n",
       "    }\n",
       "\n",
       "    .dataframe tbody tr th {\n",
       "        vertical-align: top;\n",
       "    }\n",
       "\n",
       "    .dataframe thead th {\n",
       "        text-align: right;\n",
       "    }\n",
       "</style>\n",
       "<table border=\"1\" class=\"dataframe\">\n",
       "  <thead>\n",
       "    <tr style=\"text-align: right;\">\n",
       "      <th></th>\n",
       "      <th>f0</th>\n",
       "      <th>f1</th>\n",
       "      <th>f2</th>\n",
       "      <th>product</th>\n",
       "    </tr>\n",
       "  </thead>\n",
       "  <tbody>\n",
       "    <tr>\n",
       "      <th>count</th>\n",
       "      <td>100000.000</td>\n",
       "      <td>100000.000</td>\n",
       "      <td>100000.000</td>\n",
       "      <td>100000.000</td>\n",
       "    </tr>\n",
       "    <tr>\n",
       "      <th>mean</th>\n",
       "      <td>0.002</td>\n",
       "      <td>-0.002</td>\n",
       "      <td>2.495</td>\n",
       "      <td>95.000</td>\n",
       "    </tr>\n",
       "    <tr>\n",
       "      <th>std</th>\n",
       "      <td>1.732</td>\n",
       "      <td>1.730</td>\n",
       "      <td>3.473</td>\n",
       "      <td>44.750</td>\n",
       "    </tr>\n",
       "    <tr>\n",
       "      <th>min</th>\n",
       "      <td>-8.760</td>\n",
       "      <td>-7.084</td>\n",
       "      <td>-11.970</td>\n",
       "      <td>0.000</td>\n",
       "    </tr>\n",
       "    <tr>\n",
       "      <th>25%</th>\n",
       "      <td>-1.162</td>\n",
       "      <td>-1.175</td>\n",
       "      <td>0.130</td>\n",
       "      <td>59.450</td>\n",
       "    </tr>\n",
       "    <tr>\n",
       "      <th>50%</th>\n",
       "      <td>0.009</td>\n",
       "      <td>-0.009</td>\n",
       "      <td>2.484</td>\n",
       "      <td>94.926</td>\n",
       "    </tr>\n",
       "    <tr>\n",
       "      <th>75%</th>\n",
       "      <td>1.159</td>\n",
       "      <td>1.164</td>\n",
       "      <td>4.859</td>\n",
       "      <td>130.595</td>\n",
       "    </tr>\n",
       "    <tr>\n",
       "      <th>max</th>\n",
       "      <td>7.238</td>\n",
       "      <td>7.845</td>\n",
       "      <td>16.739</td>\n",
       "      <td>190.030</td>\n",
       "    </tr>\n",
       "  </tbody>\n",
       "</table>\n",
       "</div>"
      ],
      "text/plain": [
       "               f0          f1          f2     product\n",
       "count  100000.000  100000.000  100000.000  100000.000\n",
       "mean        0.002      -0.002       2.495      95.000\n",
       "std         1.732       1.730       3.473      44.750\n",
       "min        -8.760      -7.084     -11.970       0.000\n",
       "25%        -1.162      -1.175       0.130      59.450\n",
       "50%         0.009      -0.009       2.484      94.926\n",
       "75%         1.159       1.164       4.859     130.595\n",
       "max         7.238       7.845      16.739     190.030"
      ]
     },
     "metadata": {},
     "output_type": "display_data"
    }
   ],
   "source": [
    "show_main_info(region_3)"
   ]
  },
  {
   "cell_type": "markdown",
   "id": "c88ca405",
   "metadata": {
    "tags": []
   },
   "source": [
    "### 1.3 Вывод:\n",
    "\n",
    "По итогам предварительного анализа даннымых видно следующее:\n",
    "\n",
    "* Наибольшее среднее значения и медиана тыс. баррелей продукта находятся в третьем датасете. Наименьшее значение во втором датасете;\n",
    "* В датасетах первого, второго и третьего регионов пропущенных значений и дубликатов не обнаружено;\n",
    "* Масштабирование значений независимых и целевых признаков не требуется."
   ]
  },
  {
   "cell_type": "markdown",
   "id": "dff49f31",
   "metadata": {},
   "source": [
    "## 2. Обучение и проверка модели"
   ]
  },
  {
   "cell_type": "markdown",
   "id": "f5845abb",
   "metadata": {},
   "source": [
    "### 2.1 Определение функций"
   ]
  },
  {
   "cell_type": "markdown",
   "id": "31339b94-f994-4889-a619-a4f231bcb406",
   "metadata": {},
   "source": [
    "Функция для предобработки данных"
   ]
  },
  {
   "cell_type": "code",
   "execution_count": 67,
   "id": "c43b9ebb",
   "metadata": {},
   "outputs": [],
   "source": [
    "def model_preporation(data):\n",
    "    \n",
    "    # разделяем исходный датасет на датасеты с неизменяемыми и целевым признаками\n",
    "    X = data[['f0', 'f1', 'f2']]\n",
    "    y = data['product']\n",
    "    \n",
    "    # создаем тренировочные и валидационные датасеты\n",
    "    X_train, X_valid, y_train, y_valid = train_test_split(X, y, train_size=0.75, random_state=14)\n",
    "    \n",
    "    return X_train, X_valid, y_train, y_valid"
   ]
  },
  {
   "cell_type": "markdown",
   "id": "e2a68538",
   "metadata": {},
   "source": [
    "Функция для представления результата работы модели"
   ]
  },
  {
   "cell_type": "code",
   "execution_count": 68,
   "id": "f2105bd3",
   "metadata": {},
   "outputs": [],
   "source": [
    "def model_result(prediction, y_valid, text_out=False):\n",
    "    \n",
    "    # считаем стандартную ошибку \n",
    "    RMSE = mean_squared_error(prediction, y_valid, squared=False)\n",
    "    mean = prediction.mean()\n",
    "    \n",
    "    # выводим информацию на экран\n",
    "    if text_out: \n",
    "        print(f'Значение стандартной ошибки RMSE модели для данного региона равно {RMSE.round(3)} тыс. баррелей.')\n",
    "        print(f'Средний запас сырья данного региона равен {mean.round(3)} тыс. баррелей.')\n",
    "    \n",
    "    return RMSE, mean"
   ]
  },
  {
   "cell_type": "markdown",
   "id": "11862d04-25fb-4483-95a0-0ec43cc031c9",
   "metadata": {},
   "source": [
    "Функция обучения линейной регрессии"
   ]
  },
  {
   "cell_type": "code",
   "execution_count": 69,
   "id": "ebedabf8-5a2b-4234-ac7a-6ca4d96a53c1",
   "metadata": {},
   "outputs": [],
   "source": [
    "def get_res_linear_regres(X_train, X_valid, y_train, y_valid):\n",
    "    \n",
    "    # применение функции model_preporation\n",
    "    #X_train, X_valid, y_train, y_valid = model_preporation(region)\n",
    "\n",
    "    # обучение модели линейной регрессии\n",
    "    model = LinearRegression()\n",
    "    model.fit(X_train, y_train)\n",
    "    prediction = model.predict(X_valid)\n",
    "\n",
    "    # применение функции model_result\n",
    "    RMSE, mean = model_result(prediction, y_valid)\n",
    "    return RMSE, mean, prediction"
   ]
  },
  {
   "cell_type": "markdown",
   "id": "89a6a777-67a7-476f-8622-bfb10f61f831",
   "metadata": {
    "tags": []
   },
   "source": [
    "### 2.2 Обучение моделей\n",
    "\n",
    "Обучение модели линейной регрессии и вывод значений стандартного отклонения и средний запас предсказанного сырья"
   ]
  },
  {
   "cell_type": "code",
   "execution_count": 70,
   "id": "c9550f36",
   "metadata": {},
   "outputs": [],
   "source": [
    "# применение функции model_preporation\n",
    "X_train_1, X_valid_1, y_train_1, y_valid_1 = model_preporation(region_1)\n",
    "X_train_2, X_valid_2, y_train_2, y_valid_2 = model_preporation(region_2)\n",
    "X_train_3, X_valid_3, y_train_3, y_valid_3 = model_preporation(region_3)\n",
    "\n",
    "# применение функции get_res_linear_regres\n",
    "RMSE_1, mean_1, prediction_1 = get_res_linear_regres(X_train_1, X_valid_1, y_train_1, y_valid_1)\n",
    "RMSE_2, mean_2, prediction_2 = get_res_linear_regres(X_train_2, X_valid_2, y_train_2, y_valid_2)\n",
    "RMSE_3, mean_3, prediction_3 = get_res_linear_regres(X_train_3, X_valid_3, y_train_3, y_valid_3)"
   ]
  },
  {
   "cell_type": "markdown",
   "id": "eae0f9d3-d3ae-4114-bb85-c50b6c9c3d96",
   "metadata": {},
   "source": [
    "Создание датафрейма с результатами обучения моделей и построение графиков визуализации данных значений"
   ]
  },
  {
   "cell_type": "code",
   "execution_count": 71,
   "id": "9435e773-0af2-4530-8deb-1432f961117b",
   "metadata": {},
   "outputs": [
    {
     "data": {
      "text/html": [
       "<div>\n",
       "<style scoped>\n",
       "    .dataframe tbody tr th:only-of-type {\n",
       "        vertical-align: middle;\n",
       "    }\n",
       "\n",
       "    .dataframe tbody tr th {\n",
       "        vertical-align: top;\n",
       "    }\n",
       "\n",
       "    .dataframe thead th {\n",
       "        text-align: right;\n",
       "    }\n",
       "</style>\n",
       "<table border=\"1\" class=\"dataframe\">\n",
       "  <thead>\n",
       "    <tr style=\"text-align: right;\">\n",
       "      <th></th>\n",
       "      <th>Метрика качества RMSE</th>\n",
       "      <th>Средний запас сырья</th>\n",
       "    </tr>\n",
       "  </thead>\n",
       "  <tbody>\n",
       "    <tr>\n",
       "      <th>Регион 1</th>\n",
       "      <td>37.642</td>\n",
       "      <td>92.563</td>\n",
       "    </tr>\n",
       "    <tr>\n",
       "      <th>Регион 2</th>\n",
       "      <td>0.893</td>\n",
       "      <td>68.895</td>\n",
       "    </tr>\n",
       "    <tr>\n",
       "      <th>Регион 3</th>\n",
       "      <td>39.825</td>\n",
       "      <td>95.042</td>\n",
       "    </tr>\n",
       "  </tbody>\n",
       "</table>\n",
       "</div>"
      ],
      "text/plain": [
       "          Метрика качества RMSE  Средний запас сырья\n",
       "Регион 1                 37.642               92.563\n",
       "Регион 2                  0.893               68.895\n",
       "Регион 3                 39.825               95.042"
      ]
     },
     "execution_count": 71,
     "metadata": {},
     "output_type": "execute_result"
    }
   ],
   "source": [
    "df_regions = pd.DataFrame({'Метрика качества RMSE':[RMSE_1, RMSE_2, RMSE_3],\n",
    "                           'Средний запас сырья':[mean_1, mean_2, mean_3]},\n",
    "                          index=['Регион 1', 'Регион 2', 'Регион 3'])\n",
    "df_regions"
   ]
  },
  {
   "cell_type": "code",
   "execution_count": 72,
   "id": "85136c0f-b70e-4560-a5e1-08d1f2a4735c",
   "metadata": {},
   "outputs": [
    {
     "data": {
      "image/png": "[encoded data removed]",
      "text/plain": [
       "<Figure size 1080x360 with 2 Axes>"
      ]
     },
     "metadata": {},
     "output_type": "display_data"
    }
   ],
   "source": [
    "fig, ax = plt.subplots(1, 2, figsize=(15, 5))\n",
    "\n",
    "sns.barplot(x=df_regions['Метрика качества RMSE'].index, y=df_regions['Метрика качества RMSE'], ax=ax[0])\n",
    "sns.barplot(x=df_regions['Средний запас сырья'].index, y=df_regions['Средний запас сырья'], ax=ax[1])\n",
    "\n",
    "\n",
    "ax[0].bar_label(ax[0].containers[0], fmt='%.3f')\n",
    "ax[1].bar_label(ax[1].containers[0], fmt='%.3f')\n",
    "ax[0].set_title('Метрика качества RMSE по регионам')\n",
    "ax[1].set_title('Средний запас сырья в регионах')\n",
    "plt.show()"
   ]
  },
  {
   "cell_type": "markdown",
   "id": "a3964125",
   "metadata": {},
   "source": [
    "### 2.3 Вывод\n",
    "\n",
    "Из результатов предсказаний моделей Линейной регрессии на данных трех регионов получилось следующее:\n",
    "\n",
    "* Наибольшее значение среднего запас сырья имеет третий регион - 95.042 тыс. баррелей;\n",
    "* Наибольшее значение стандартной ошибки имеет третий регион - 39.825 тыс. баррелей;\n",
    "* Наименьшее значение среднего запас сырья имеет второй регион - 68.895 тыс. баррелей; \n",
    "* Наименьшее значение стандартной ошибки имеет второй регион - 0.893 тыс. баррелей;\n",
    "* Средний запас сырья и значение стандартной ошибки во втором регионе сильно отличаются от первого и третьего регионов."
   ]
  },
  {
   "cell_type": "markdown",
   "id": "84f9f7ae",
   "metadata": {},
   "source": [
    "## 3. Подготовка к расчёту прибыли"
   ]
  },
  {
   "cell_type": "markdown",
   "id": "83a465a0",
   "metadata": {},
   "source": [
    "Основная информацию для расчета прибыли от скважен"
   ]
  },
  {
   "cell_type": "code",
   "execution_count": 73,
   "id": "b3597a03",
   "metadata": {},
   "outputs": [],
   "source": [
    "WELLS_BUDGET = 10e9 #доступный бюджет для разработки скважин в регионе\n",
    "ONE_BARREL_PRICE = 450 #стоимость одного барреля\n",
    "BARRELS_PROFIT = ONE_BARREL_PRICE * 1000 #доход с одной тысячи баррелей"
   ]
  },
  {
   "cell_type": "markdown",
   "id": "4841ee98",
   "metadata": {},
   "source": [
    "Рассчёт минимального необходимого запаса скважин. Сравнение минимального запаса с предсказанными средними значениями запасов скважин первого, второго и третьего регионов."
   ]
  },
  {
   "cell_type": "code",
   "execution_count": 74,
   "id": "b12a4d6f",
   "metadata": {},
   "outputs": [
    {
     "name": "stdout",
     "output_type": "stream",
     "text": [
      "Минимальный необходимый запас скаважины для ее окупаемости равен 111.111 тыс. баррелей\n",
      "\n"
     ]
    }
   ],
   "source": [
    "#расчет минимального необходимого запаса сырья скважин в регионе для её окупаемости\n",
    "# с учётом того, что в регионах разрабатываются только 200 лучших скважин\n",
    "min_necessary_stock = round(WELLS_BUDGET / (BARRELS_PROFIT * 200), 3)\n",
    "\n",
    "#сравнение минимального необходимого запаса со значениями, предсказанными моделями\n",
    "compare_1, compare_2, compare_3 = [round(x / min_necessary_stock, 3) for x in [mean_1, mean_2, mean_3]]\n",
    "\n",
    "print(f'Минимальный необходимый запас скаважины для ее окупаемости равен {min_necessary_stock} тыс. баррелей\\n')"
   ]
  },
  {
   "cell_type": "markdown",
   "id": "a1bc0e46-74ad-4266-b219-38fa03f64f2e",
   "metadata": {},
   "source": [
    "График полученных значений"
   ]
  },
  {
   "cell_type": "code",
   "execution_count": 75,
   "id": "97605ec0-5054-4b42-96aa-7fa6fcc2f056",
   "metadata": {},
   "outputs": [
    {
     "data": {
      "image/png": "[encoded data removed]",
      "text/plain": [
       "<Figure size 720x360 with 1 Axes>"
      ]
     },
     "metadata": {},
     "output_type": "display_data"
    }
   ],
   "source": [
    "fig, ax = plt.subplots(figsize=(10, 5))\n",
    "\n",
    "sns.barplot(x=['Регион 1', 'Регион 2', 'Регион 3'], y=[compare_1, compare_2, compare_3])\n",
    "\n",
    "ax.bar_label(ax.containers[0], fmt='%.3f')\n",
    "plt.title('Отношение среднего запаса сырья скважин к минимальному необходимому запасу в регионах')\n",
    "plt.ylabel('Отношение')\n",
    "plt.show()"
   ]
  },
  {
   "cell_type": "markdown",
   "id": "9141b2bb",
   "metadata": {},
   "source": [
    "### Вывод\n",
    "\n",
    "Из проведенного расчета видно, что средние запасы сырья скважин первого и третьего регионов близок к необходимому для окупаемости запасу. Средние запасы сырья скважин второго региона имеет меньшее значение чем первый и третьей регионы. Его среднее значение меньше необходимого для окупаемости значения запаса сырья."
   ]
  },
  {
   "cell_type": "markdown",
   "id": "bf423509",
   "metadata": {},
   "source": [
    "## 4. Расчёт прибыли и рисков "
   ]
  },
  {
   "cell_type": "markdown",
   "id": "06809bff",
   "metadata": {},
   "source": [
    "### 4.1 Расчёт прибыли в регионах"
   ]
  },
  {
   "cell_type": "markdown",
   "id": "aeeed591",
   "metadata": {},
   "source": [
    "Для расчета прибыли и рисков зададим дополнительную информацию о количестве разрабатываемых скважен и максимально допустимую вероятность убытка."
   ]
  },
  {
   "cell_type": "code",
   "execution_count": 76,
   "id": "d2d1ee25",
   "metadata": {},
   "outputs": [],
   "source": [
    "BEST_POINT_AMOUNT= 200 #количество наилучших скважен, необходимых для исследования\n",
    "LOSS_PROBABILITY= 0.025 #максимально допустимая вероятность убытка"
   ]
  },
  {
   "cell_type": "markdown",
   "id": "db4c1840",
   "metadata": {},
   "source": [
    "Создадим функцию, которая из датафрейма с предсказаниями отберет необходимое количество скважен с наибольшим значениям объема сырья. Используя индексы отобранных скважен получим реально имеющийся объем сырья в этих скваженах из валидационных выборок."
   ]
  },
  {
   "cell_type": "code",
   "execution_count": 77,
   "id": "36c93d5e",
   "metadata": {},
   "outputs": [],
   "source": [
    "def choice_function(y_valid, prediction, choice_amount):\n",
    "    \n",
    "    #создадим датафрейм из данными, предсказанных ML модели. Отсортируем по убыванию и отберем необходимый диапазон\n",
    "    prediction_index = (pd.Series(prediction, index=y_valid.index)\n",
    "                        .sort_values(ascending=False)\n",
    "                        .index)\n",
    "    \n",
    "    #из исходного датафрейма отбираем строки с индексами, которые соответствуют индексам данных в датафрейме prediction \n",
    "    #с наибольшими значениями таргета\n",
    "    choiced_data = y_valid.loc[prediction_index].iloc[:choice_amount]\n",
    "    \n",
    "    return choiced_data"
   ]
  },
  {
   "cell_type": "markdown",
   "id": "965724dc",
   "metadata": {},
   "source": [
    "Создадим функцию, которая отберет 200 скважен, по предсказаниям ML-модели содержащих наибольшее количество сырья. Посчитаем возможную прибыль с каждой скважины. Посчитаем суммарный объем запасов сырья этих скважен, суммарную возможную прибыль, валовую прибыль и валовую маржинальность."
   ]
  },
  {
   "cell_type": "code",
   "execution_count": 78,
   "id": "31a289a5",
   "metadata": {},
   "outputs": [],
   "source": [
    "def income_counter(input_data, input_prediction, cost=BARRELS_PROFIT, choice_amount=BEST_POINT_AMOUNT, well_cost=WELLS_BUDGET, info=False):\n",
    "    data = input_data.copy()\n",
    "    prediction = input_prediction.copy()\n",
    "    \n",
    "    #используем функцию отбора скважен\n",
    "    choiced_stock = choice_function(data, prediction, choice_amount)\n",
    "    \n",
    "    #создаем итоговый датафрейм\n",
    "    best_data = pd.DataFrame({'wells_stock': choiced_stock})\n",
    "    \n",
    "    #считаем доход с каждой скважины\n",
    "    best_data['income_from_well'] = best_data['wells_stock'] * cost\n",
    "    \n",
    "    # обновляем индексы\n",
    "    #best_data.reset_index(drop=True, inplace=True)           \n",
    "    \n",
    "    #считаем суммарный объем и возможный доход\n",
    "    sum_stock = best_data['wells_stock'].sum().round(3)\n",
    "    sum_income = best_data['income_from_well'].sum()\n",
    "\n",
    "    #считаем валовый доход и валовую маржинальность\n",
    "    if well_cost != 0:\n",
    "        gross_profit = sum_income - well_cost\n",
    "        gross_margin = gross_profit / sum_income\n",
    "    \n",
    "    # вывод посчитанных значений на экран при необходимости\n",
    "    if info:\n",
    "        print(f'Суммарное значение объема сырья отобранных скважен равно {sum_stock} тыс. барралей')\n",
    "        print(f'Суммарный возможный доход с отобранных скважен равен {round(sum_income / 1e9, 3)} млрд.')\n",
    "        print(f'Суммарный возможный валовый доход с отобранных скважен равен {round(gross_profit / 1e9, 3)} млрд.')\n",
    "        print(f'Возможная валовая маржинальность с отобранных скважен равна {gross_margin.round(3)}')\n",
    "\n",
    "    return best_data, sum_stock, sum_income, gross_profit"
   ]
  },
  {
   "cell_type": "markdown",
   "id": "96da8beb",
   "metadata": {},
   "source": [
    "Применим данную функцию к первому, второму и третьему регионам и выведем интересующую информацию. Выведем первые строки полученных датафреймов. "
   ]
  },
  {
   "cell_type": "markdown",
   "id": "470feb23",
   "metadata": {},
   "source": [
    "#### 4.1.1 Расчеты для первого региона"
   ]
  },
  {
   "cell_type": "code",
   "execution_count": 79,
   "id": "8aa5ba56",
   "metadata": {},
   "outputs": [
    {
     "data": {
      "text/html": [
       "<div>\n",
       "<style scoped>\n",
       "    .dataframe tbody tr th:only-of-type {\n",
       "        vertical-align: middle;\n",
       "    }\n",
       "\n",
       "    .dataframe tbody tr th {\n",
       "        vertical-align: top;\n",
       "    }\n",
       "\n",
       "    .dataframe thead th {\n",
       "        text-align: right;\n",
       "    }\n",
       "</style>\n",
       "<table border=\"1\" class=\"dataframe\">\n",
       "  <thead>\n",
       "    <tr style=\"text-align: right;\">\n",
       "      <th></th>\n",
       "      <th>wells_stock</th>\n",
       "      <th>income_from_well</th>\n",
       "    </tr>\n",
       "  </thead>\n",
       "  <tbody>\n",
       "    <tr>\n",
       "      <th>83095</th>\n",
       "      <td>144.009</td>\n",
       "      <td>6.480e+07</td>\n",
       "    </tr>\n",
       "    <tr>\n",
       "      <th>27658</th>\n",
       "      <td>140.632</td>\n",
       "      <td>6.328e+07</td>\n",
       "    </tr>\n",
       "    <tr>\n",
       "      <th>78948</th>\n",
       "      <td>162.153</td>\n",
       "      <td>7.297e+07</td>\n",
       "    </tr>\n",
       "    <tr>\n",
       "      <th>65743</th>\n",
       "      <td>176.808</td>\n",
       "      <td>7.956e+07</td>\n",
       "    </tr>\n",
       "    <tr>\n",
       "      <th>93716</th>\n",
       "      <td>130.986</td>\n",
       "      <td>5.894e+07</td>\n",
       "    </tr>\n",
       "  </tbody>\n",
       "</table>\n",
       "</div>"
      ],
      "text/plain": [
       "       wells_stock  income_from_well\n",
       "83095      144.009         6.480e+07\n",
       "27658      140.632         6.328e+07\n",
       "78948      162.153         7.297e+07\n",
       "65743      176.808         7.956e+07\n",
       "93716      130.986         5.894e+07"
      ]
     },
     "execution_count": 79,
     "metadata": {},
     "output_type": "execute_result"
    }
   ],
   "source": [
    "df_reg1, sum_stock_reg1, sum_income_reg1, sum_gross_profit_reg1 = income_counter(y_valid_1, prediction_1)\n",
    "df_reg1.head()"
   ]
  },
  {
   "cell_type": "markdown",
   "id": "76e86e6b",
   "metadata": {},
   "source": [
    "#### 4.1.2 Расчеты для второго региона"
   ]
  },
  {
   "cell_type": "code",
   "execution_count": 80,
   "id": "f218fa53",
   "metadata": {},
   "outputs": [
    {
     "data": {
      "text/html": [
       "<div>\n",
       "<style scoped>\n",
       "    .dataframe tbody tr th:only-of-type {\n",
       "        vertical-align: middle;\n",
       "    }\n",
       "\n",
       "    .dataframe tbody tr th {\n",
       "        vertical-align: top;\n",
       "    }\n",
       "\n",
       "    .dataframe thead th {\n",
       "        text-align: right;\n",
       "    }\n",
       "</style>\n",
       "<table border=\"1\" class=\"dataframe\">\n",
       "  <thead>\n",
       "    <tr style=\"text-align: right;\">\n",
       "      <th></th>\n",
       "      <th>wells_stock</th>\n",
       "      <th>income_from_well</th>\n",
       "    </tr>\n",
       "  </thead>\n",
       "  <tbody>\n",
       "    <tr>\n",
       "      <th>42738</th>\n",
       "      <td>137.945</td>\n",
       "      <td>6.208e+07</td>\n",
       "    </tr>\n",
       "    <tr>\n",
       "      <th>19483</th>\n",
       "      <td>137.945</td>\n",
       "      <td>6.208e+07</td>\n",
       "    </tr>\n",
       "    <tr>\n",
       "      <th>60464</th>\n",
       "      <td>137.945</td>\n",
       "      <td>6.208e+07</td>\n",
       "    </tr>\n",
       "    <tr>\n",
       "      <th>42432</th>\n",
       "      <td>137.945</td>\n",
       "      <td>6.208e+07</td>\n",
       "    </tr>\n",
       "    <tr>\n",
       "      <th>2242</th>\n",
       "      <td>137.945</td>\n",
       "      <td>6.208e+07</td>\n",
       "    </tr>\n",
       "  </tbody>\n",
       "</table>\n",
       "</div>"
      ],
      "text/plain": [
       "       wells_stock  income_from_well\n",
       "42738      137.945         6.208e+07\n",
       "19483      137.945         6.208e+07\n",
       "60464      137.945         6.208e+07\n",
       "42432      137.945         6.208e+07\n",
       "2242       137.945         6.208e+07"
      ]
     },
     "execution_count": 80,
     "metadata": {},
     "output_type": "execute_result"
    }
   ],
   "source": [
    "df_reg2, sum_stock_reg2, sum_income_reg2, sum_gross_profit_reg2 = income_counter(y_valid_2, prediction_2)\n",
    "df_reg2.head()"
   ]
  },
  {
   "cell_type": "markdown",
   "id": "3642641e",
   "metadata": {},
   "source": [
    "#### 4.1.3 Расчеты для третьего региона"
   ]
  },
  {
   "cell_type": "code",
   "execution_count": 81,
   "id": "25ffa369",
   "metadata": {},
   "outputs": [
    {
     "data": {
      "text/html": [
       "<div>\n",
       "<style scoped>\n",
       "    .dataframe tbody tr th:only-of-type {\n",
       "        vertical-align: middle;\n",
       "    }\n",
       "\n",
       "    .dataframe tbody tr th {\n",
       "        vertical-align: top;\n",
       "    }\n",
       "\n",
       "    .dataframe thead th {\n",
       "        text-align: right;\n",
       "    }\n",
       "</style>\n",
       "<table border=\"1\" class=\"dataframe\">\n",
       "  <thead>\n",
       "    <tr style=\"text-align: right;\">\n",
       "      <th></th>\n",
       "      <th>wells_stock</th>\n",
       "      <th>income_from_well</th>\n",
       "    </tr>\n",
       "  </thead>\n",
       "  <tbody>\n",
       "    <tr>\n",
       "      <th>3540</th>\n",
       "      <td>154.063</td>\n",
       "      <td>6.933e+07</td>\n",
       "    </tr>\n",
       "    <tr>\n",
       "      <th>98714</th>\n",
       "      <td>98.664</td>\n",
       "      <td>4.440e+07</td>\n",
       "    </tr>\n",
       "    <tr>\n",
       "      <th>6647</th>\n",
       "      <td>152.294</td>\n",
       "      <td>6.853e+07</td>\n",
       "    </tr>\n",
       "    <tr>\n",
       "      <th>69502</th>\n",
       "      <td>121.349</td>\n",
       "      <td>5.461e+07</td>\n",
       "    </tr>\n",
       "    <tr>\n",
       "      <th>41820</th>\n",
       "      <td>139.563</td>\n",
       "      <td>6.280e+07</td>\n",
       "    </tr>\n",
       "  </tbody>\n",
       "</table>\n",
       "</div>"
      ],
      "text/plain": [
       "       wells_stock  income_from_well\n",
       "3540       154.063         6.933e+07\n",
       "98714       98.664         4.440e+07\n",
       "6647       152.294         6.853e+07\n",
       "69502      121.349         5.461e+07\n",
       "41820      139.563         6.280e+07"
      ]
     },
     "execution_count": 81,
     "metadata": {},
     "output_type": "execute_result"
    }
   ],
   "source": [
    "df_reg3, sum_stock_reg3, sum_income_reg3, sum_gross_profit_reg3 = income_counter(y_valid_3, prediction_3)\n",
    "df_reg3.head()"
   ]
  },
  {
   "cell_type": "markdown",
   "id": "38ac25a5",
   "metadata": {},
   "source": [
    "#### 4.1.4 График полученных значений по трем регионам"
   ]
  },
  {
   "cell_type": "markdown",
   "id": "ec019aad",
   "metadata": {},
   "source": [
    "Для визуального сравнения полученных значений в трех регионах построим графики."
   ]
  },
  {
   "cell_type": "code",
   "execution_count": 83,
   "id": "b91e2fc9",
   "metadata": {},
   "outputs": [
    {
     "data": {
      "image/png": "[encoded data removed]",
      "text/plain": [
       "<Figure size 1224x504 with 3 Axes>"
      ]
     },
     "metadata": {},
     "output_type": "display_data"
    }
   ],
   "source": [
    "data_plot = pd.DataFrame({\n",
    "    'regions':['region 1', 'region 2','region 3'],\n",
    "    'sum_stock':[sum_stock_reg1, sum_stock_reg2, sum_stock_reg3],\n",
    "    'sum_income':[sum_income_reg1, sum_income_reg2, sum_income_reg3],\n",
    "    'sum_gross_profit':[sum_gross_profit_reg1, sum_gross_profit_reg2, sum_gross_profit_reg3]},\n",
    ")\n",
    "\n",
    "sns.set_theme(style=\"whitegrid\")\n",
    "fig, axes = plt.subplots(1, 3, figsize=(17, 7))\n",
    "\n",
    "fig.suptitle('Comparing of values of different regions')\n",
    "\n",
    "sns.barplot(ax=axes[0], data=data_plot, x='regions', y='sum_stock')\n",
    "sns.barplot(ax=axes[1], data=data_plot, x='regions', y='sum_income')\n",
    "sns.barplot(ax=axes[2], data=data_plot, x='regions', y='sum_gross_profit')\n",
    "\n",
    "axes[0].set_title('Comparing of sum stocks of regions wells')\n",
    "axes[1].set_title('Comparing of sum profit of regions wells')\n",
    "axes[2].set_title('Comparing of gross profit of regions wells')\n",
    "\n",
    "axes[0].set_ylabel('Sum stocks')\n",
    "axes[1].set_ylabel('Sum profit')\n",
    "axes[2].set_ylabel('Gross profit')\n",
    "\n",
    "plt.show()"
   ]
  },
  {
   "cell_type": "markdown",
   "id": "e777fe60",
   "metadata": {},
   "source": [
    "#### 4.1.5 Вывод:\n",
    "\n",
    "При рассмотрении 200 скважин с наибольшим объемом сырья получается, что наибольший объем сырья и наибольший валовый доход имеет первый регион. Наименьшие значения данных показателей имеет третий регион."
   ]
  },
  {
   "cell_type": "markdown",
   "id": "62efa1a7",
   "metadata": {},
   "source": [
    "### 4.2 Расчёт рисков в регионах"
   ]
  },
  {
   "cell_type": "markdown",
   "id": "1e191272",
   "metadata": {},
   "source": [
    "Для расчета рисков создадим функцию, которая с помощью метода bootstrap сделает 1000 выборок и найдет суммарный доход в каждой выборке. После чего посчитаем 95% доверительный интервал. Посчитаем вероятность убытков, то есть отношение не окупившихся выборок к окупившимся."
   ]
  },
  {
   "cell_type": "code",
   "execution_count": 108,
   "id": "ba7e6554",
   "metadata": {},
   "outputs": [],
   "source": [
    "def bootstrap_model(y_valid, ml_prediction, total_amount, best_amount, cost=BARRELS_PROFIT, loss_border=WELLS_BUDGET, n_bootstrap=1000):\n",
    "    # зададем переменные\n",
    "    state = np.random.RandomState(12345)\n",
    "    data = y_valid.copy()\n",
    "    prediction = pd.Series(ml_prediction.copy(), index=y_valid.index)\n",
    "    \n",
    "    # создадим список для bootstrap\n",
    "    bootstrap_sum_list = []\n",
    "    \n",
    "    # применим метод bootstrap, так как по условиям задачи можно использовать только 500 скважин, отберем из них лучшие \n",
    "    # с помощью функции choice_function. После чего найдем суммарный доход и добавим его в список.\n",
    "    for i in range(n_bootstrap):\n",
    "        \n",
    "        total_subsample = data.sample(n=total_amount, replace=True, random_state=state)\n",
    "        prediction_index = total_subsample.index\n",
    "        best_subsample_stock = choice_function(total_subsample, prediction[prediction_index], best_amount)\n",
    "        best_subsample_profit = best_subsample_stock * cost\n",
    "        bootstrap_sum_list.append(best_subsample_profit.sum())\n",
    "\n",
    "    # найдем среднюю валовую прибыль\n",
    "    bootstrap_profit = np.array(bootstrap_sum_list) - loss_border\n",
    "    bootstrap_mean_profit = round(np.mean(bootstrap_profit) / 1e9, 3)\n",
    "    \n",
    "    # найдем доверительный интервал\n",
    "    confidence_interval = [round(np.quantile(bootstrap_profit, 0.025) / 1e9, 3), round(np.quantile(bootstrap_profit, 0.975) / 1e9, 3)]\n",
    "\n",
    "    # найдем вероятност убытка\n",
    "    loss_probabilety = (bootstrap_profit < 0).mean() * 100\n",
    "    return bootstrap_mean_profit, confidence_interval, loss_probabilety "
   ]
  },
  {
   "cell_type": "markdown",
   "id": "d13ccc00",
   "metadata": {},
   "source": [
    "Создадим функцию, выводящую результаты работы метода bootstrap."
   ]
  },
  {
   "cell_type": "code",
   "execution_count": 109,
   "id": "cbce704d",
   "metadata": {},
   "outputs": [],
   "source": [
    "def show_result(mean_profit, confidence_interval, loss_probabilety, region_name):\n",
    "    \n",
    "    print(f'Среднее значение валовой выручки в {region_name.lower()} регионе равно {mean_profit} млрд.')\n",
    "    \n",
    "    print('Доверительный интервал валовой выручки в {0} регионе находится в диапазоне значений от {1} до {2} млрд.'.format(\n",
    "        region_name,\n",
    "        confidence_interval[0],\n",
    "        confidence_interval[1])\n",
    "         )\n",
    "    \n",
    "    print(f'Вероятность убытка в {region_name} регионе равна {loss_probabilety} %.')"
   ]
  },
  {
   "cell_type": "markdown",
   "id": "b7c0548b",
   "metadata": {},
   "source": [
    "Применим функции для каждого региона."
   ]
  },
  {
   "cell_type": "markdown",
   "id": "6ba927d4-dca7-40f0-9d2a-c908c5eb11bc",
   "metadata": {},
   "source": [
    "#### 4.2.1 Расчеты для первого региона"
   ]
  },
  {
   "cell_type": "code",
   "execution_count": 110,
   "id": "dd8cdc59",
   "metadata": {},
   "outputs": [
    {
     "name": "stdout",
     "output_type": "stream",
     "text": [
      "Среднее значение валовой выручки в первом регионе равно 0.451 млрд.\n",
      "Доверительный интервал валовой выручки в первом регионе находится в диапазоне значений от -0.072 до 0.96 млрд.\n",
      "Вероятность убытка в первом регионе равна 4.8 %.\n"
     ]
    }
   ],
   "source": [
    "mean_profit_reg1, confidence_interval_reg1, loss_probabilety_reg1 = bootstrap_model(y_valid_1,\n",
    "                                                                                  prediction_1,\n",
    "                                                                                  total_amount=500,\n",
    "                                                                                  best_amount=200)\n",
    "\n",
    "show_result(mean_profit_reg1, confidence_interval_reg1, loss_probabilety_reg1, 'первом')"
   ]
  },
  {
   "cell_type": "markdown",
   "id": "b716c4a3-59ff-4889-ba06-44d0114d1c1e",
   "metadata": {},
   "source": [
    "#### 4.2.2 Расчеты для второго региона"
   ]
  },
  {
   "cell_type": "code",
   "execution_count": 111,
   "id": "d2f5d5bd",
   "metadata": {},
   "outputs": [
    {
     "name": "stdout",
     "output_type": "stream",
     "text": [
      "Среднее значение валовой выручки в втором регионе равно 0.486 млрд.\n",
      "Доверительный интервал валовой выручки в втором регионе находится в диапазоне значений от 0.076 до 0.949 млрд.\n",
      "Вероятность убытка в втором регионе равна 1.2 %.\n"
     ]
    }
   ],
   "source": [
    "mean_profit_reg2, confidence_interval_reg2, loss_probabilety_reg2 = bootstrap_model(y_valid_2,\n",
    "                                                                                  prediction_2,\n",
    "                                                                                  total_amount=500,\n",
    "                                                                                  best_amount=200)\n",
    "\n",
    "show_result(mean_profit_reg2, confidence_interval_reg2, loss_probabilety_reg2, 'втором')"
   ]
  },
  {
   "cell_type": "markdown",
   "id": "e56157c6-148c-4957-9ee6-29ca2d0dba77",
   "metadata": {},
   "source": [
    "#### 4.2.3 Расчеты для третьего региона"
   ]
  },
  {
   "cell_type": "code",
   "execution_count": 112,
   "id": "bdd2dbcd",
   "metadata": {},
   "outputs": [
    {
     "name": "stdout",
     "output_type": "stream",
     "text": [
      "Среднее значение валовой выручки в третьем регионе равно 0.433 млрд.\n",
      "Доверительный интервал валовой выручки в третьем регионе находится в диапазоне значений от -0.132 до 0.93 млрд.\n",
      "Вероятность убытка в третьем регионе равна 6.3 %.\n"
     ]
    }
   ],
   "source": [
    "mean_profit_reg3, confidence_interval_reg3, loss_probabilety_reg3 = bootstrap_model(y_valid_3,\n",
    "                                                                                  prediction_3,\n",
    "                                                                                  total_amount=500,\n",
    "                                                                                  best_amount=200)\n",
    "\n",
    "show_result(mean_profit_reg3, confidence_interval_reg3, loss_probabilety_reg3, 'третьем')"
   ]
  },
  {
   "cell_type": "markdown",
   "id": "445fb0f3-47bb-418e-87c6-8e521a55c12b",
   "metadata": {},
   "source": [
    "#### 4.2.4 График полученных значений по трем регионам"
   ]
  },
  {
   "cell_type": "code",
   "execution_count": 113,
   "id": "32068e55-a472-43d8-a9d6-5c2567379134",
   "metadata": {},
   "outputs": [
    {
     "data": {
      "text/plain": [
       "0.076"
      ]
     },
     "execution_count": 113,
     "metadata": {},
     "output_type": "execute_result"
    }
   ],
   "source": [
    "confidence_interval_reg2[0]"
   ]
  },
  {
   "cell_type": "code",
   "execution_count": 114,
   "id": "691968c5-cfe7-4082-b16d-949cd445db00",
   "metadata": {},
   "outputs": [
    {
     "data": {
      "text/html": [
       "<div>\n",
       "<style scoped>\n",
       "    .dataframe tbody tr th:only-of-type {\n",
       "        vertical-align: middle;\n",
       "    }\n",
       "\n",
       "    .dataframe tbody tr th {\n",
       "        vertical-align: top;\n",
       "    }\n",
       "\n",
       "    .dataframe thead th {\n",
       "        text-align: right;\n",
       "    }\n",
       "</style>\n",
       "<table border=\"1\" class=\"dataframe\">\n",
       "  <thead>\n",
       "    <tr style=\"text-align: right;\">\n",
       "      <th></th>\n",
       "      <th>mean_regiens_profit</th>\n",
       "      <th>regiens_confidence_interval_min</th>\n",
       "      <th>regiens_confidence_interval_msx</th>\n",
       "      <th>regiens_loss_probabilety</th>\n",
       "    </tr>\n",
       "  </thead>\n",
       "  <tbody>\n",
       "    <tr>\n",
       "      <th>region 1</th>\n",
       "      <td>0.451</td>\n",
       "      <td>-0.072</td>\n",
       "      <td>0.960</td>\n",
       "      <td>4.8</td>\n",
       "    </tr>\n",
       "    <tr>\n",
       "      <th>region 2</th>\n",
       "      <td>0.486</td>\n",
       "      <td>0.076</td>\n",
       "      <td>0.949</td>\n",
       "      <td>1.2</td>\n",
       "    </tr>\n",
       "    <tr>\n",
       "      <th>region 3</th>\n",
       "      <td>0.433</td>\n",
       "      <td>-0.132</td>\n",
       "      <td>0.930</td>\n",
       "      <td>6.3</td>\n",
       "    </tr>\n",
       "  </tbody>\n",
       "</table>\n",
       "</div>"
      ],
      "text/plain": [
       "          mean_regiens_profit  regiens_confidence_interval_min  \\\n",
       "region 1                0.451                           -0.072   \n",
       "region 2                0.486                            0.076   \n",
       "region 3                0.433                           -0.132   \n",
       "\n",
       "          regiens_confidence_interval_msx  regiens_loss_probabilety  \n",
       "region 1                            0.960                       4.8  \n",
       "region 2                            0.949                       1.2  \n",
       "region 3                            0.930                       6.3  "
      ]
     },
     "execution_count": 114,
     "metadata": {},
     "output_type": "execute_result"
    }
   ],
   "source": [
    "results = pd.DataFrame({'mean_regiens_profit':[mean_profit_reg1, mean_profit_reg2, mean_profit_reg3],\n",
    "                              'regiens_confidence_interval_min':[confidence_interval_reg1[0], confidence_interval_reg2[0], confidence_interval_reg3[0]],\n",
    "                              'regiens_confidence_interval_max':[confidence_interval_reg1[1], confidence_interval_reg2[1], confidence_interval_reg3[1]],\n",
    "                              'regiens_loss_probabilety':[loss_probabilety_reg1, loss_probabilety_reg2, loss_probabilety_reg3]},\n",
    "                              index=['region 1', 'region 2', 'region 3'])\n",
    "results"
   ]
  },
  {
   "cell_type": "code",
   "execution_count": 133,
   "id": "b9c4368b-0e5d-4988-8880-f89fdd35fd06",
   "metadata": {},
   "outputs": [
    {
     "data": {
      "image/png": "[encoded data removed]",
      "text/plain": [
       "<Figure size 1224x1224 with 4 Axes>"
      ]
     },
     "metadata": {},
     "output_type": "display_data"
    }
   ],
   "source": [
    "fig, axis = plt.subplots(2, 2, figsize=(17, 17))\n",
    "\n",
    "#настройка шрифтов на графиках\n",
    "plt.rc('font', size=12)          # controls default text sizes\n",
    "plt.rc('axes', titlesize=15)     # fontsize of the axes title\n",
    "plt.rc('axes', labelsize=13)    # fontsize of the x and y labels\n",
    "plt.rc('xtick', labelsize=12)    # fontsize of the tick labels\n",
    "plt.rc('ytick', labelsize=11)    # fontsize of the tick labels\n",
    "plt.rc('figure', titlesize=20)  # fontsize of the figure title\n",
    "\n",
    "# построение столбчатых диаграмм\n",
    "sns.barplot(x=results.index, y=results['mean_regiens_profit'], ax=axis[0][0], palette=\"Blues_d\")\n",
    "sns.barplot(x=results.index, y=results['regiens_loss_probabilety'], ax=axis[0][1] , palette=\"Blues_d\")\n",
    "sns.barplot(x=results.index, y=results['regiens_confidence_interval_min'], ax=axis[1][0], palette=\"Blues_d\")\n",
    "sns.barplot(x=results.index, y=results['regiens_confidence_interval_msx'], ax=axis[1][1], palette=\"Blues_d\")\n",
    "\n",
    "# добавление дополнительной информации на графики\n",
    "fig.suptitle('Полученные результаты')\n",
    "axis[0][0].bar_label(axis[0][0].containers[0], fmt='%.3f')\n",
    "axis[0][1].bar_label(axis[0][1].containers[0], fmt='%.1f')\n",
    "axis[1][0].bar_label(axis[1][0].containers[0], fmt='%.3f')\n",
    "axis[1][1].bar_label(axis[1][1].containers[0], fmt='%.3f')\n",
    "\n",
    "axis[0][0].set_title('Среднее значение валовой выручки (млрд.)')\n",
    "axis[0][1].set_title('Вероятность убытка (%)')\n",
    "axis[1][0].set_title('Нижняя граница доверительного интервала валовой выручки (млрд.)')\n",
    "axis[1][1].set_title('Верхняя граница доверительного интервала валовой выручки (млрд.)')\n",
    "plt.show()"
   ]
  },
  {
   "cell_type": "markdown",
   "id": "a53275b6",
   "metadata": {},
   "source": [
    "#### 4.2.5 Вывод:\n",
    "По условию задания нужно отбросить регионы, у которых вероятность убытка более 2,5%. По результатам исследования обнаружено, что значения вероятности убытка в первый и третий регион превышают допустимый предел. \n",
    "\n",
    "* Максимальную вероятность убытка имеет третий регион в 6.3%.\n",
    "* Минимальную вероятность убытка имеет второй регион в 1.2 %.\n",
    "\n",
    "Самый большой диапазон доверительного интервала валовой прибыли у второго региона от 0.076 до 0.949 млрд.\n",
    "\n",
    "Из вышеперечисленного можно сделать вывод, что наилучшем для разработки сырья регионом является второй регион, так как он имеет наименьшую вероятность убытка, наибольший доверительный диапазон возможной прибыли и наименьшую стандартную ошибку предсказанных ML-моделью объемов сырья."
   ]
  },
  {
   "cell_type": "markdown",
   "id": "573f8ab9",
   "metadata": {},
   "source": [
    "## 5. Итоговый вывод"
   ]
  },
  {
   "cell_type": "markdown",
   "id": "2caf9e6b",
   "metadata": {},
   "source": [
    "В результате исследования объемов нефтяного сырья в трех регионах была проделана следующая работа:\n",
    "\n",
    "* Проведено предварительный анализ данных о регионах;\n",
    "* Для каждого региона построены ML-модели линейной регресси и на валидационной выборке предсказаны объёмы сырья в данном регионе;\n",
    "* Проведен расчет минимальное необходимого запаса сырья в скважине его сравнение с предсказанными средними значениями запасов скважин первого, второго и третьего регионов;\n",
    "* Проведены расчеты суммарных объемы 200 лучших скважен в каждом регионе. Найдены суммарные прибыли, валовый доход и валовая маржинальность для этих регионов. Построены графики получены значений;\n",
    "* Для регионов с помощью метода bootstrap получены доверительные интервалы и вероятности убытка.\n",
    "\n",
    "Из проделанной работы получены следующие выводы: \n",
    "\n",
    "* Наибольшее значение среднего запас сырья имеет третий регион равное 95.042 тыс. баррелей;\n",
    "* Наибольшее отношение среднего запаса сырья скважин к минимальному необходимому запасу имеет третий равный 0.855;\n",
    "* При рассмотрении 200 скважин с наибольшим объемом сырья наибольший объем сырья и наибольший валовый доход имеет первый регион.\n",
    "* Минимальную вероятность убытка в 1.2 % и самый большой диапазон доверительного интервала валовой прибыли от 0.076 до 0.949 млрд. имеет второй регион.\n",
    "\n",
    "\n",
    "По итогу исследования для разработки скважен нефтяного сырья рекомендуется выбрать второй регион, так как только данный регион удовлетворяет требованиям по допустимым значениям вероятности убытка."
   ]
  }
 ],
 "metadata": {
  "ExecuteTimeLog": [
   {
    "duration": 1069,
    "start_time": "2022-03-02T17:10:24.999Z"
   },
   {
    "duration": -801,
    "start_time": "2022-03-02T17:10:26.872Z"
   },
   {
    "duration": -823,
    "start_time": "2022-03-02T17:10:26.896Z"
   },
   {
    "duration": -826,
    "start_time": "2022-03-02T17:10:26.900Z"
   },
   {
    "duration": -827,
    "start_time": "2022-03-02T17:10:26.903Z"
   },
   {
    "duration": -830,
    "start_time": "2022-03-02T17:10:26.907Z"
   },
   {
    "duration": -830,
    "start_time": "2022-03-02T17:10:26.909Z"
   },
   {
    "duration": -832,
    "start_time": "2022-03-02T17:10:26.912Z"
   },
   {
    "duration": -833,
    "start_time": "2022-03-02T17:10:26.915Z"
   },
   {
    "duration": -835,
    "start_time": "2022-03-02T17:10:26.918Z"
   },
   {
    "duration": -840,
    "start_time": "2022-03-02T17:10:26.924Z"
   },
   {
    "duration": -841,
    "start_time": "2022-03-02T17:10:26.927Z"
   },
   {
    "duration": -840,
    "start_time": "2022-03-02T17:10:26.928Z"
   },
   {
    "duration": -843,
    "start_time": "2022-03-02T17:10:26.932Z"
   }
  ],
  "kernelspec": {
   "display_name": "Python 3 (ipykernel)",
   "language": "python",
   "name": "python3"
  },
  "language_info": {
   "codemirror_mode": {
    "name": "ipython",
    "version": 3
   },
   "file_extension": ".py",
   "mimetype": "text/x-python",
   "name": "python",
   "nbconvert_exporter": "python",
   "pygments_lexer": "ipython3",
   "version": "3.9.7"
  },
  "toc": {
   "base_numbering": 1,
   "nav_menu": {},
   "number_sections": true,
   "sideBar": true,
   "skip_h1_title": true,
   "title_cell": "Table of Contents",
   "title_sidebar": "Contents",
   "toc_cell": false,
   "toc_position": {},
   "toc_section_display": true,
   "toc_window_display": false
  }
 },
 "nbformat": 4,
 "nbformat_minor": 5
}
