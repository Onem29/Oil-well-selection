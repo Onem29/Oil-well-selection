{
 "cells": [
  {
   "cell_type": "markdown",
   "id": "e294f146",
   "metadata": {},
   "source": [
    "# Проект \"Выбор локаций для скважин\""
   ]
  },
  {
   "cell_type": "markdown",
   "id": "7bcde937",
   "metadata": {},
   "source": [
    "Целевым признаком в датафреймах является колонка `product`\n",
    "\n",
    "**Легенда** \n",
    "\n",
    "* `id` — уникальный идентификатор скважины;\n",
    "\n",
    "* `f0`, `f1`, `f2` — три признака точек ;\n",
    "\n",
    "* `product` — объём запасов в скважине (тыс. баррелей).\n"
   ]
  },
  {
   "cell_type": "markdown",
   "id": "89333007",
   "metadata": {
    "tags": []
   },
   "source": [
    "## 1. Загрузка и подготовка данных\n",
    "### 1.1 Чтение данных "
   ]
  },
  {
   "cell_type": "markdown",
   "id": "8448783d-1d5c-4be6-aeb0-a7641747f21b",
   "metadata": {},
   "source": [
    "Импорт библиотек"
   ]
  },
  {
   "cell_type": "code",
   "execution_count": 1,
   "id": "cb406447",
   "metadata": {},
   "outputs": [],
   "source": [
    "import os\n",
    "\n",
    "import pandas as pd\n",
    "import numpy as np\n",
    "import matplotlib.pyplot as plt\n",
    "import seaborn as sns\n",
    "\n",
    "from pandas_profiling import ProfileReport\n",
    "#import sweetviz as sv\n",
    "#import scipy.stats as st\n",
    "\n",
    "from sklearn.linear_model import LinearRegression\n",
    "from sklearn.model_selection import train_test_split\n",
    "from sklearn.metrics import mean_squared_error"
   ]
  },
  {
   "cell_type": "markdown",
   "id": "a6ffb207",
   "metadata": {},
   "source": [
    "Чтение данных о геологоразведке трёх регионах"
   ]
  },
  {
   "cell_type": "code",
   "execution_count": 4,
   "id": "57a725c8",
   "metadata": {},
   "outputs": [],
   "source": [
    "region_1 = pd.read_csv('.\\datasets\\geo_data_0.csv')\n",
    "region_2 = pd.read_csv('.\\datasets\\geo_data_1.csv')\n",
    "region_3 = pd.read_csv('.\\datasets\\geo_data_2.csv')\n",
    "\n",
    "region_list = [region_1, region_2, region_3]"
   ]
  },
  {
   "cell_type": "markdown",
   "id": "33fc6ef4",
   "metadata": {},
   "source": [
    "Функция, выводящая основную информацию о датафрейме"
   ]
  },
  {
   "cell_type": "code",
   "execution_count": 47,
   "id": "970df3aa",
   "metadata": {},
   "outputs": [],
   "source": [
    "def show_main_info(data, info=True, describe=True, head=False, isna=False, dupl=False):\n",
    "    \n",
    "    if info:\n",
    "        # выводит информацию о датафрейме\n",
    "        print('\\n\\u001b[4m\\u001b[1mОсновная информация о датафрейме\\u001b[0m\\n')\n",
    "        print(data.info())\n",
    "\n",
    "    if describe:\n",
    "        # выводит основные описательные характеристики\n",
    "        print('\\n\\u001b[4m\\u001b[1mОсновные описательные характеристики датафрейма\\u001b[0m')\n",
    "        display(data.describe())\n",
    "\n",
    "    if head:\n",
    "        # выводит первые 5 строк\n",
    "        print('\\n\\u001b[4m\\u001b[1mПервые 5 строк датафрейме\\u001b[0m')\n",
    "        display(data.head())\n",
    "\n",
    "    if isna:\n",
    "        # проверяет наличие пустых ячеек\n",
    "        print('\\n\\u001b[4m\\u001b[1mКоличество пропущенных значений в столбцах датафрейма\\u001b[0m')\n",
    "        display(data.isna().sum())\n",
    "\n",
    "    if dupl:\n",
    "        # проверяет наличие явных дуликатов\n",
    "        print('\\n\\u001b[4m\\u001b[1mКоличество дубликатов в столбце \"id\" датафрейма равно:\\u001b[0m {}\\n'.format(\n",
    "        data.duplicated().sum()))"
   ]
  },
  {
   "cell_type": "markdown",
   "id": "6a88abd1",
   "metadata": {
    "tags": []
   },
   "source": [
    "### 1.2 Предварительный анализ датафреймов"
   ]
  },
  {
   "cell_type": "markdown",
   "id": "a30bc804-3559-4d59-a3ea-476896b045f6",
   "metadata": {},
   "source": [
    "Для предварительного анализа используется созданная функция \"show_main_info\" и библиотекой pandas_profiling"
   ]
  },
  {
   "cell_type": "markdown",
   "id": "396171f1-1d44-4823-a102-5061d3143974",
   "metadata": {},
   "source": [
    "#### 1.2.1 Первый регион"
   ]
  },
  {
   "cell_type": "code",
   "execution_count": 30,
   "id": "a22ac3ac-9d7f-4347-9595-4d813cbf1c40",
   "metadata": {},
   "outputs": [
    {
     "data": {
      "application/vnd.jupyter.widget-view+json": {
       "model_id": "00663d2b59fc49d099abedbe893a0a46",
       "version_major": 2,
       "version_minor": 0
      },
      "text/plain": [
       "VBox(children=(Tab(children=(Tab(children=(GridBox(children=(VBox(children=(GridspecLayout(children=(HTML(valu…"
      ]
     },
     "metadata": {},
     "output_type": "display_data"
    }
   ],
   "source": [
    "profile_r1 = ProfileReport(region_1, title=\"Report of Region 1\", progress_bar=False)\n",
    "profile_r1.to_widgets()"
   ]
  },
  {
   "cell_type": "code",
   "execution_count": 42,
   "id": "7b088574",
   "metadata": {
    "scrolled": true,
    "tags": []
   },
   "outputs": [
    {
     "name": "stdout",
     "output_type": "stream",
     "text": [
      "\n",
      "\u001b[4m\u001b[1mОсновная информация о датафрейме\u001b[0m\n",
      "\n",
      "<class 'pandas.core.frame.DataFrame'>\n",
      "RangeIndex: 100000 entries, 0 to 99999\n",
      "Data columns (total 5 columns):\n",
      " #   Column   Non-Null Count   Dtype  \n",
      "---  ------   --------------   -----  \n",
      " 0   id       100000 non-null  object \n",
      " 1   f0       100000 non-null  float64\n",
      " 2   f1       100000 non-null  float64\n",
      " 3   f2       100000 non-null  float64\n",
      " 4   product  100000 non-null  float64\n",
      "dtypes: float64(4), object(1)\n",
      "memory usage: 3.8+ MB\n",
      "None\n",
      "\n",
      "\u001b[4m\u001b[1mОсновные описательные характеристики датафрейма\u001b[0m\n"
     ]
    },
    {
     "data": {
      "text/html": [
       "<div>\n",
       "<style scoped>\n",
       "    .dataframe tbody tr th:only-of-type {\n",
       "        vertical-align: middle;\n",
       "    }\n",
       "\n",
       "    .dataframe tbody tr th {\n",
       "        vertical-align: top;\n",
       "    }\n",
       "\n",
       "    .dataframe thead th {\n",
       "        text-align: right;\n",
       "    }\n",
       "</style>\n",
       "<table border=\"1\" class=\"dataframe\">\n",
       "  <thead>\n",
       "    <tr style=\"text-align: right;\">\n",
       "      <th></th>\n",
       "      <th>f0</th>\n",
       "      <th>f1</th>\n",
       "      <th>f2</th>\n",
       "      <th>product</th>\n",
       "    </tr>\n",
       "  </thead>\n",
       "  <tbody>\n",
       "    <tr>\n",
       "      <th>count</th>\n",
       "      <td>100000.000000</td>\n",
       "      <td>100000.000000</td>\n",
       "      <td>100000.000000</td>\n",
       "      <td>100000.000000</td>\n",
       "    </tr>\n",
       "    <tr>\n",
       "      <th>mean</th>\n",
       "      <td>0.500419</td>\n",
       "      <td>0.250143</td>\n",
       "      <td>2.502647</td>\n",
       "      <td>92.500000</td>\n",
       "    </tr>\n",
       "    <tr>\n",
       "      <th>std</th>\n",
       "      <td>0.871832</td>\n",
       "      <td>0.504433</td>\n",
       "      <td>3.248248</td>\n",
       "      <td>44.288691</td>\n",
       "    </tr>\n",
       "    <tr>\n",
       "      <th>min</th>\n",
       "      <td>-1.408605</td>\n",
       "      <td>-0.848218</td>\n",
       "      <td>-12.088328</td>\n",
       "      <td>0.000000</td>\n",
       "    </tr>\n",
       "    <tr>\n",
       "      <th>25%</th>\n",
       "      <td>-0.072580</td>\n",
       "      <td>-0.200881</td>\n",
       "      <td>0.287748</td>\n",
       "      <td>56.497507</td>\n",
       "    </tr>\n",
       "    <tr>\n",
       "      <th>50%</th>\n",
       "      <td>0.502360</td>\n",
       "      <td>0.250252</td>\n",
       "      <td>2.515969</td>\n",
       "      <td>91.849972</td>\n",
       "    </tr>\n",
       "    <tr>\n",
       "      <th>75%</th>\n",
       "      <td>1.073581</td>\n",
       "      <td>0.700646</td>\n",
       "      <td>4.715088</td>\n",
       "      <td>128.564089</td>\n",
       "    </tr>\n",
       "    <tr>\n",
       "      <th>max</th>\n",
       "      <td>2.362331</td>\n",
       "      <td>1.343769</td>\n",
       "      <td>16.003790</td>\n",
       "      <td>185.364347</td>\n",
       "    </tr>\n",
       "  </tbody>\n",
       "</table>\n",
       "</div>"
      ],
      "text/plain": [
       "                  f0             f1             f2        product\n",
       "count  100000.000000  100000.000000  100000.000000  100000.000000\n",
       "mean        0.500419       0.250143       2.502647      92.500000\n",
       "std         0.871832       0.504433       3.248248      44.288691\n",
       "min        -1.408605      -0.848218     -12.088328       0.000000\n",
       "25%        -0.072580      -0.200881       0.287748      56.497507\n",
       "50%         0.502360       0.250252       2.515969      91.849972\n",
       "75%         1.073581       0.700646       4.715088     128.564089\n",
       "max         2.362331       1.343769      16.003790     185.364347"
      ]
     },
     "metadata": {},
     "output_type": "display_data"
    },
    {
     "name": "stdout",
     "output_type": "stream",
     "text": [
      "\n",
      "\u001b[4m\u001b[1mКоличество дубликатов в столбце \"id\" датафрейма равно:\u001b[0m 0\n"
     ]
    }
   ],
   "source": [
    "show_main_info(region_1, dupl=True)"
   ]
  },
  {
   "cell_type": "markdown",
   "id": "ee765769-8546-4991-aca2-e8dcfc6f51ba",
   "metadata": {
    "tags": []
   },
   "source": [
    "#### 1.2.2 Второй регион"
   ]
  },
  {
   "cell_type": "code",
   "execution_count": 31,
   "id": "89c82234-bdce-41de-b5bc-09dd41d34e7b",
   "metadata": {},
   "outputs": [
    {
     "data": {
      "application/vnd.jupyter.widget-view+json": {
       "model_id": "2311aa3f1cdb45df910a13d6268f4762",
       "version_major": 2,
       "version_minor": 0
      },
      "text/plain": [
       "VBox(children=(Tab(children=(Tab(children=(GridBox(children=(VBox(children=(GridspecLayout(children=(HTML(valu…"
      ]
     },
     "metadata": {},
     "output_type": "display_data"
    }
   ],
   "source": [
    "profile_r2 = ProfileReport(region_2, title=\"Report of Region 2\", progress_bar=False)\n",
    "profile_r2.to_widgets()"
   ]
  },
  {
   "cell_type": "code",
   "execution_count": 43,
   "id": "7c40251a-d644-4621-afdb-d8f931b9b798",
   "metadata": {},
   "outputs": [
    {
     "name": "stdout",
     "output_type": "stream",
     "text": [
      "\n",
      "\u001b[4m\u001b[1mОсновная информация о датафрейме\u001b[0m\n",
      "\n",
      "<class 'pandas.core.frame.DataFrame'>\n",
      "RangeIndex: 100000 entries, 0 to 99999\n",
      "Data columns (total 5 columns):\n",
      " #   Column   Non-Null Count   Dtype  \n",
      "---  ------   --------------   -----  \n",
      " 0   id       100000 non-null  object \n",
      " 1   f0       100000 non-null  float64\n",
      " 2   f1       100000 non-null  float64\n",
      " 3   f2       100000 non-null  float64\n",
      " 4   product  100000 non-null  float64\n",
      "dtypes: float64(4), object(1)\n",
      "memory usage: 3.8+ MB\n",
      "None\n",
      "\n",
      "\u001b[4m\u001b[1mОсновные описательные характеристики датафрейма\u001b[0m\n"
     ]
    },
    {
     "data": {
      "text/html": [
       "<div>\n",
       "<style scoped>\n",
       "    .dataframe tbody tr th:only-of-type {\n",
       "        vertical-align: middle;\n",
       "    }\n",
       "\n",
       "    .dataframe tbody tr th {\n",
       "        vertical-align: top;\n",
       "    }\n",
       "\n",
       "    .dataframe thead th {\n",
       "        text-align: right;\n",
       "    }\n",
       "</style>\n",
       "<table border=\"1\" class=\"dataframe\">\n",
       "  <thead>\n",
       "    <tr style=\"text-align: right;\">\n",
       "      <th></th>\n",
       "      <th>f0</th>\n",
       "      <th>f1</th>\n",
       "      <th>f2</th>\n",
       "      <th>product</th>\n",
       "    </tr>\n",
       "  </thead>\n",
       "  <tbody>\n",
       "    <tr>\n",
       "      <th>count</th>\n",
       "      <td>100000.000000</td>\n",
       "      <td>100000.000000</td>\n",
       "      <td>100000.000000</td>\n",
       "      <td>100000.000000</td>\n",
       "    </tr>\n",
       "    <tr>\n",
       "      <th>mean</th>\n",
       "      <td>1.141296</td>\n",
       "      <td>-4.796579</td>\n",
       "      <td>2.494541</td>\n",
       "      <td>68.825000</td>\n",
       "    </tr>\n",
       "    <tr>\n",
       "      <th>std</th>\n",
       "      <td>8.965932</td>\n",
       "      <td>5.119872</td>\n",
       "      <td>1.703572</td>\n",
       "      <td>45.944423</td>\n",
       "    </tr>\n",
       "    <tr>\n",
       "      <th>min</th>\n",
       "      <td>-31.609576</td>\n",
       "      <td>-26.358598</td>\n",
       "      <td>-0.018144</td>\n",
       "      <td>0.000000</td>\n",
       "    </tr>\n",
       "    <tr>\n",
       "      <th>25%</th>\n",
       "      <td>-6.298551</td>\n",
       "      <td>-8.267985</td>\n",
       "      <td>1.000021</td>\n",
       "      <td>26.953261</td>\n",
       "    </tr>\n",
       "    <tr>\n",
       "      <th>50%</th>\n",
       "      <td>1.153055</td>\n",
       "      <td>-4.813172</td>\n",
       "      <td>2.011479</td>\n",
       "      <td>57.085625</td>\n",
       "    </tr>\n",
       "    <tr>\n",
       "      <th>75%</th>\n",
       "      <td>8.621015</td>\n",
       "      <td>-1.332816</td>\n",
       "      <td>3.999904</td>\n",
       "      <td>107.813044</td>\n",
       "    </tr>\n",
       "    <tr>\n",
       "      <th>max</th>\n",
       "      <td>29.421755</td>\n",
       "      <td>18.734063</td>\n",
       "      <td>5.019721</td>\n",
       "      <td>137.945408</td>\n",
       "    </tr>\n",
       "  </tbody>\n",
       "</table>\n",
       "</div>"
      ],
      "text/plain": [
       "                  f0             f1             f2        product\n",
       "count  100000.000000  100000.000000  100000.000000  100000.000000\n",
       "mean        1.141296      -4.796579       2.494541      68.825000\n",
       "std         8.965932       5.119872       1.703572      45.944423\n",
       "min       -31.609576     -26.358598      -0.018144       0.000000\n",
       "25%        -6.298551      -8.267985       1.000021      26.953261\n",
       "50%         1.153055      -4.813172       2.011479      57.085625\n",
       "75%         8.621015      -1.332816       3.999904     107.813044\n",
       "max        29.421755      18.734063       5.019721     137.945408"
      ]
     },
     "metadata": {},
     "output_type": "display_data"
    },
    {
     "name": "stdout",
     "output_type": "stream",
     "text": [
      "\n",
      "\u001b[4m\u001b[1mКоличество дубликатов в столбце \"id\" датафрейма равно:\u001b[0m 0\n"
     ]
    }
   ],
   "source": [
    "show_main_info(region_2, dupl=True)"
   ]
  },
  {
   "cell_type": "markdown",
   "id": "05a0a61f-0410-4751-936f-ce414b37d74f",
   "metadata": {
    "tags": []
   },
   "source": [
    "#### 1.2.3 Третий регион"
   ]
  },
  {
   "cell_type": "code",
   "execution_count": 32,
   "id": "dcb9173c-ea1e-4af4-bc33-142817424215",
   "metadata": {},
   "outputs": [
    {
     "data": {
      "application/vnd.jupyter.widget-view+json": {
       "model_id": "f92e4df4b9e34b3999dd42f53789d266",
       "version_major": 2,
       "version_minor": 0
      },
      "text/plain": [
       "VBox(children=(Tab(children=(Tab(children=(GridBox(children=(VBox(children=(GridspecLayout(children=(HTML(valu…"
      ]
     },
     "metadata": {},
     "output_type": "display_data"
    }
   ],
   "source": [
    "profile_r3 = ProfileReport(region_3, title=\"Report of Region 3\", progress_bar=False)\n",
    "profile_r3.to_widgets()"
   ]
  },
  {
   "cell_type": "code",
   "execution_count": 44,
   "id": "4a08fb86-158a-4140-bca1-c556e5a5f85e",
   "metadata": {},
   "outputs": [
    {
     "name": "stdout",
     "output_type": "stream",
     "text": [
      "\n",
      "\u001b[4m\u001b[1mОсновная информация о датафрейме\u001b[0m\n",
      "\n",
      "<class 'pandas.core.frame.DataFrame'>\n",
      "RangeIndex: 100000 entries, 0 to 99999\n",
      "Data columns (total 5 columns):\n",
      " #   Column   Non-Null Count   Dtype  \n",
      "---  ------   --------------   -----  \n",
      " 0   id       100000 non-null  object \n",
      " 1   f0       100000 non-null  float64\n",
      " 2   f1       100000 non-null  float64\n",
      " 3   f2       100000 non-null  float64\n",
      " 4   product  100000 non-null  float64\n",
      "dtypes: float64(4), object(1)\n",
      "memory usage: 3.8+ MB\n",
      "None\n",
      "\n",
      "\u001b[4m\u001b[1mОсновные описательные характеристики датафрейма\u001b[0m\n"
     ]
    },
    {
     "data": {
      "text/html": [
       "<div>\n",
       "<style scoped>\n",
       "    .dataframe tbody tr th:only-of-type {\n",
       "        vertical-align: middle;\n",
       "    }\n",
       "\n",
       "    .dataframe tbody tr th {\n",
       "        vertical-align: top;\n",
       "    }\n",
       "\n",
       "    .dataframe thead th {\n",
       "        text-align: right;\n",
       "    }\n",
       "</style>\n",
       "<table border=\"1\" class=\"dataframe\">\n",
       "  <thead>\n",
       "    <tr style=\"text-align: right;\">\n",
       "      <th></th>\n",
       "      <th>f0</th>\n",
       "      <th>f1</th>\n",
       "      <th>f2</th>\n",
       "      <th>product</th>\n",
       "    </tr>\n",
       "  </thead>\n",
       "  <tbody>\n",
       "    <tr>\n",
       "      <th>count</th>\n",
       "      <td>100000.000000</td>\n",
       "      <td>100000.000000</td>\n",
       "      <td>100000.000000</td>\n",
       "      <td>100000.000000</td>\n",
       "    </tr>\n",
       "    <tr>\n",
       "      <th>mean</th>\n",
       "      <td>0.002023</td>\n",
       "      <td>-0.002081</td>\n",
       "      <td>2.495128</td>\n",
       "      <td>95.000000</td>\n",
       "    </tr>\n",
       "    <tr>\n",
       "      <th>std</th>\n",
       "      <td>1.732045</td>\n",
       "      <td>1.730417</td>\n",
       "      <td>3.473445</td>\n",
       "      <td>44.749921</td>\n",
       "    </tr>\n",
       "    <tr>\n",
       "      <th>min</th>\n",
       "      <td>-8.760004</td>\n",
       "      <td>-7.084020</td>\n",
       "      <td>-11.970335</td>\n",
       "      <td>0.000000</td>\n",
       "    </tr>\n",
       "    <tr>\n",
       "      <th>25%</th>\n",
       "      <td>-1.162288</td>\n",
       "      <td>-1.174820</td>\n",
       "      <td>0.130359</td>\n",
       "      <td>59.450441</td>\n",
       "    </tr>\n",
       "    <tr>\n",
       "      <th>50%</th>\n",
       "      <td>0.009424</td>\n",
       "      <td>-0.009482</td>\n",
       "      <td>2.484236</td>\n",
       "      <td>94.925613</td>\n",
       "    </tr>\n",
       "    <tr>\n",
       "      <th>75%</th>\n",
       "      <td>1.158535</td>\n",
       "      <td>1.163678</td>\n",
       "      <td>4.858794</td>\n",
       "      <td>130.595027</td>\n",
       "    </tr>\n",
       "    <tr>\n",
       "      <th>max</th>\n",
       "      <td>7.238262</td>\n",
       "      <td>7.844801</td>\n",
       "      <td>16.739402</td>\n",
       "      <td>190.029838</td>\n",
       "    </tr>\n",
       "  </tbody>\n",
       "</table>\n",
       "</div>"
      ],
      "text/plain": [
       "                  f0             f1             f2        product\n",
       "count  100000.000000  100000.000000  100000.000000  100000.000000\n",
       "mean        0.002023      -0.002081       2.495128      95.000000\n",
       "std         1.732045       1.730417       3.473445      44.749921\n",
       "min        -8.760004      -7.084020     -11.970335       0.000000\n",
       "25%        -1.162288      -1.174820       0.130359      59.450441\n",
       "50%         0.009424      -0.009482       2.484236      94.925613\n",
       "75%         1.158535       1.163678       4.858794     130.595027\n",
       "max         7.238262       7.844801      16.739402     190.029838"
      ]
     },
     "metadata": {},
     "output_type": "display_data"
    },
    {
     "name": "stdout",
     "output_type": "stream",
     "text": [
      "\n",
      "\u001b[4m\u001b[1mКоличество дубликатов в столбце \"id\" датафрейма равно:\u001b[0m 0\n"
     ]
    }
   ],
   "source": [
    "show_main_info(region_3, dupl=True)"
   ]
  },
  {
   "cell_type": "markdown",
   "id": "c88ca405",
   "metadata": {
    "tags": []
   },
   "source": [
    "### 1.3 Вывод:\n",
    "\n",
    "По итогам предварительного анализа даннымых видно следующее:\n",
    "\n",
    "* Наибольшее среднее значения и медиана тыс. баррелей продукта находятся в третьем датасете. Наименьшее значение во втором датасете;\n",
    "\n",
    "* В датасетах первого, второго и третьего регионов пропущенных значений и дубликатов не обнаружено;\n",
    "\n",
    "* Масштабирование значений независимых и целевых признаков не требуется."
   ]
  },
  {
   "cell_type": "markdown",
   "id": "dff49f31",
   "metadata": {},
   "source": [
    "## 2. Обучение и проверка модели"
   ]
  },
  {
   "cell_type": "markdown",
   "id": "f5845abb",
   "metadata": {},
   "source": [
    "По условию для обучения подходит только Линейная регрессия. \n",
    "\n",
    "Создадим функцию, которая предобработает данных , необходимые для обучения модели"
   ]
  },
  {
   "cell_type": "code",
   "execution_count": 8,
   "id": "c43b9ebb",
   "metadata": {},
   "outputs": [],
   "source": [
    "def model_preporation(data):\n",
    "    \n",
    "    # разделяем исходный датасет на датасеты с неизменяемыми и целевым признаками\n",
    "    X = data[['f0', 'f1', 'f2']]\n",
    "    y = data['product']\n",
    "    \n",
    "    # создаем тренировочные и валидационные датасеты\n",
    "    X_train, X_valid, y_train, y_valid = train_test_split(X, y, train_size=0.75, random_state=14)\n",
    "    \n",
    "    return X_train, X_valid, y_train, y_valid"
   ]
  },
  {
   "cell_type": "markdown",
   "id": "e2a68538",
   "metadata": {},
   "source": [
    "Создадим функцию, выводящую интересующий результат"
   ]
  },
  {
   "cell_type": "code",
   "execution_count": 9,
   "id": "f2105bd3",
   "metadata": {},
   "outputs": [],
   "source": [
    "def model_result(prediction, y_valid):\n",
    "    \n",
    "    # считаем стандартную ошибку \n",
    "    RMSE = mean_squared_error(prediction, y_valid, squared=False)\n",
    "    mean = prediction.mean()\n",
    "    \n",
    "    # выводим информацию на экран\n",
    "    print(f'Значение стандартной ошибки RMSE модели для данного региона равно {RMSE.round(3)} тыс. баррелей.')\n",
    "    print(f'Средний запас сырья данного региона равен {mean.round(3)} тыс. баррелей.')\n",
    "    \n",
    "    return RMSE, mean"
   ]
  },
  {
   "cell_type": "markdown",
   "id": "8443c09b",
   "metadata": {},
   "source": [
    "**Обучение моделина данных первого региона**"
   ]
  },
  {
   "cell_type": "markdown",
   "id": "352aa9e0",
   "metadata": {},
   "source": [
    "Обучим модель на данных первого региона. Выведем значения стандартного отклонения и средний запас предсказанного сырья."
   ]
  },
  {
   "cell_type": "code",
   "execution_count": 10,
   "id": "c9550f36",
   "metadata": {},
   "outputs": [
    {
     "name": "stdout",
     "output_type": "stream",
     "text": [
      "Значение стандартной ошибки RMSE модели для данного региона равно 37.642 тыс. баррелей.\n",
      "Средний запас сырья данного региона равен 92.563 тыс. баррелей.\n"
     ]
    }
   ],
   "source": [
    "X_train_1, X_valid_1, y_train_1, y_valid_1 = model_preporation(region_1)\n",
    "\n",
    "model = LinearRegression()\n",
    "model.fit(X_train_1, y_train_1)\n",
    "prediction_1 = model.predict(X_valid_1)\n",
    "\n",
    "RMSE_1, mean_1 = model_result(prediction_1, y_valid_1)"
   ]
  },
  {
   "cell_type": "markdown",
   "id": "3cf03424",
   "metadata": {},
   "source": [
    "**Обучение модели на данных второго региона**"
   ]
  },
  {
   "cell_type": "markdown",
   "id": "c1846298",
   "metadata": {},
   "source": [
    "Повторим предыдущие действия на данных второго региона."
   ]
  },
  {
   "cell_type": "code",
   "execution_count": 11,
   "id": "cf94379f",
   "metadata": {},
   "outputs": [
    {
     "name": "stdout",
     "output_type": "stream",
     "text": [
      "Значение стандартной ошибки RMSE модели для данного региона равно 0.893 тыс. баррелей.\n",
      "Средний запас сырья данного региона равен 68.895 тыс. баррелей.\n"
     ]
    }
   ],
   "source": [
    "X_train_2, X_valid_2, y_train_2, y_valid_2 = model_preporation(region_2)\n",
    "\n",
    "model = LinearRegression()\n",
    "model.fit(X_train_2, y_train_2)\n",
    "prediction_2 = model.predict(X_valid_2)\n",
    "\n",
    "RMSE_2, mean_2 = model_result(prediction_2, y_valid_2)"
   ]
  },
  {
   "cell_type": "markdown",
   "id": "b6492d7e",
   "metadata": {},
   "source": [
    "**Обучение модели на данных третьего региона**"
   ]
  },
  {
   "cell_type": "markdown",
   "id": "38322d07",
   "metadata": {},
   "source": [
    "Повторим предыдущие действия на данных третьего региона."
   ]
  },
  {
   "cell_type": "code",
   "execution_count": 12,
   "id": "edb8ac5f",
   "metadata": {},
   "outputs": [
    {
     "name": "stdout",
     "output_type": "stream",
     "text": [
      "Значение стандартной ошибки RMSE модели для данного региона равно 39.825 тыс. баррелей.\n",
      "Средний запас сырья данного региона равен 95.042 тыс. баррелей.\n"
     ]
    }
   ],
   "source": [
    "X_train_3, X_valid_3, y_train_3, y_valid_3 = model_preporation(region_3)\n",
    "\n",
    "model = LinearRegression()\n",
    "model.fit(X_train_3, y_train_3)\n",
    "prediction_3 = model.predict(X_valid_3)\n",
    "\n",
    "RMSE_3, mean_3 = model_result(prediction_3, y_valid_3)"
   ]
  },
  {
   "cell_type": "markdown",
   "id": "a3964125",
   "metadata": {},
   "source": [
    "**Вывод**\n",
    "\n",
    "Из результатов предсказаний моделей Линейной регрессии на данных трех регионов получилось следующее:\n",
    "\n",
    "* Наибольшее значение среднего запас сырья имеет третий регион равное 95.042 тыс. баррелей;\n",
    "* Наибольшее значение стандартной ошибки имеет третий регион равное 39.825 тыс. баррелей;\n",
    "\n",
    "* Наименьшее значение среднего запас сырья имеет второй регион равное 68.895 тыс. баррелей; \n",
    "* Наименьшее значение стандартной ошибки имеет третий регион равное 0.893 тыс. баррелей."
   ]
  },
  {
   "cell_type": "markdown",
   "id": "65ea3c10",
   "metadata": {},
   "source": [
    "<div class=\"alert alert-block alert-success\">\n",
    "<b>Успех:</b> Модели обучены корректно. Радует, что ты активно используешь функции. Это помогает избежать дублирования кода, а значит уменьшает вероятность совершить ошибку/опечатку!\n",
    "</div>"
   ]
  },
  {
   "cell_type": "markdown",
   "id": "84f9f7ae",
   "metadata": {},
   "source": [
    "## Подготовка к расчёту прибыли"
   ]
  },
  {
   "cell_type": "markdown",
   "id": "83a465a0",
   "metadata": {},
   "source": [
    "Подготовим основную информацию для расчета прибыли от скважен."
   ]
  },
  {
   "cell_type": "code",
   "execution_count": 13,
   "id": "b3597a03",
   "metadata": {},
   "outputs": [],
   "source": [
    "WELLS_BUDGET = 10e9 #доступный бюджет для разработки скважин в регионе\n",
    "ONE_BARREL_PRICE = 450\n",
    "BARRELS_PROFIT = ONE_BARREL_PRICE * 1000 #доход с одной тысячи баррелей"
   ]
  },
  {
   "cell_type": "markdown",
   "id": "9423d75e",
   "metadata": {},
   "source": [
    "<div class=\"alert alert-block alert-info\">\n",
    "\n",
    "<b>Совет: </b> В названиях константных переменных лучше использовать только БОЛЬШИЕ буквы. Это соглашение между программистами: https://pythonworld.ru/osnovy/pep-8-rukovodstvo-po-napisaniyu-koda-na-python.html#id29 .\n",
    "</div>"
   ]
  },
  {
   "cell_type": "markdown",
   "id": "98c5f167",
   "metadata": {},
   "source": [
    "<div class=\"alert alert-block alert-warning\">\n",
    "<b>Изменения:</b> Поправил наименования констант\n",
    "</div>"
   ]
  },
  {
   "cell_type": "markdown",
   "id": "bf2bd356",
   "metadata": {},
   "source": [
    "<div class=\"alert alert-block alert-success\">\n",
    "<b>Успех (ревью 2):</b> ОК.\n",
    "</div>"
   ]
  },
  {
   "cell_type": "markdown",
   "id": "4841ee98",
   "metadata": {},
   "source": [
    "Рассчитаем минимальный необходимый запас скважин и сравним его с предсказанными средними значениями запасов скважин первого, второго и третьего регионов."
   ]
  },
  {
   "cell_type": "code",
   "execution_count": 14,
   "id": "b12a4d6f",
   "metadata": {},
   "outputs": [
    {
     "name": "stdout",
     "output_type": "stream",
     "text": [
      "Минимальный необходимый запас скаважины для ее окупаемости равен 111.111 тыс. баррелей\n",
      "\n",
      "Отношение среднего запаса сырья скважин первого региона к минимальному необходимому запасу равен 0.833\n",
      "Отношение среднего запаса сырья скважин второго региона к минимальному необходимому запасу равен 0.62\n",
      "Отношение среднего запаса сырья скважин третьего региона к минимальному необходимому запасу равен 0.855\n"
     ]
    }
   ],
   "source": [
    "#расчет минимального необходимого запаса сырья скважин в регионе для её окупаемости\n",
    "# учтем, что в регионах разрабатываются только 200 лучших скважин\n",
    "min_necessary_stock = round(WELLS_BUDGET / (BARRELS_PROFIT * 200), 3)\n",
    "\n",
    "#сравнение минимального необходимого запаса со значениями, предсказанными моделями\n",
    "compare_1, compare_2, compare_3 = (mean_1 / min_necessary_stock, \n",
    "                                   mean_2 / min_necessary_stock, \n",
    "                                   mean_3 / min_necessary_stock)\n",
    "\n",
    "\n",
    "print(f'Минимальный необходимый запас скаважины для ее окупаемости равен {min_necessary_stock} тыс. баррелей\\n')\n",
    "print(f'Отношение среднего запаса сырья скважин первого региона к минимальному необходимому запасу равен {round(compare_1, 3)}')\n",
    "print(f'Отношение среднего запаса сырья скважин второго региона к минимальному необходимому запасу равен {round(compare_2, 3)}')\n",
    "print(f'Отношение среднего запаса сырья скважин третьего региона к минимальному необходимому запасу равен {round(compare_3, 3)}')"
   ]
  },
  {
   "cell_type": "markdown",
   "id": "9141b2bb",
   "metadata": {},
   "source": [
    "**Вывод**\n",
    "\n",
    "Из проведенного расчета видно, что средние запасы сырья скважин первого и третьего регионов близок к необходимому для окупаемости запасу. Средние запасы сырья скважин второго региона имеет меньшее значение, чем первый и третьей регионы и его среднее более далеко от необходимого для окупаемости значения запаса сырья."
   ]
  },
  {
   "cell_type": "markdown",
   "id": "3309626c",
   "metadata": {},
   "source": [
    "<div class=\"alert alert-block alert-success\">\n",
    "<b>Успех:</b> Точка безубыточности найдена верно, сравнение проведено!\n",
    "</div>"
   ]
  },
  {
   "cell_type": "markdown",
   "id": "bf423509",
   "metadata": {},
   "source": [
    "## Расчёт прибыли и рисков "
   ]
  },
  {
   "cell_type": "markdown",
   "id": "06809bff",
   "metadata": {},
   "source": [
    "### Расчёт прибыли в регионах"
   ]
  },
  {
   "cell_type": "markdown",
   "id": "aeeed591",
   "metadata": {},
   "source": [
    "Для расчета прибыли и рисков зададим дополнительную информацию о количестве разрабатываемых скважен и максимально допустимую вероятность убытка."
   ]
  },
  {
   "cell_type": "code",
   "execution_count": 15,
   "id": "d2d1ee25",
   "metadata": {},
   "outputs": [],
   "source": [
    "BEST_POINT_AMOUNT= 200 #количество наилучших скважен, необходимых для исследования\n",
    "LOSS_PROBABILITY= 0.025 #максимально допустимая вероятность убытка"
   ]
  },
  {
   "cell_type": "markdown",
   "id": "db4c1840",
   "metadata": {},
   "source": [
    "Создадим функцию, которая из датафрейма с предсказаниями отберет необходимое количество скважен с наибольшим значениям объема сырья. Используя индексы этих скважен из валидационных выборок получит реально имеющийся объем сырья в этих скважен."
   ]
  },
  {
   "cell_type": "code",
   "execution_count": 16,
   "id": "36c93d5e",
   "metadata": {},
   "outputs": [],
   "source": [
    "def choice_function(y_valid, prediction, choice_amount):\n",
    "    \n",
    "    #создадим датафрейм из данными, предсказанных ML модели. Отсортируем по убыванию и отберем необходимый диапазон\n",
    "    prediction_index = (pd.Series(prediction, index=y_valid.index)\n",
    "                        .sort_values(ascending=False)\n",
    "                        .index\n",
    "                       )\n",
    "    \n",
    "    #из исходного датафрейма отбираем строки с индексами, которые соответствуют индексам данных в датафрейме prediction \n",
    "    #с наибольшими значениями таргета\n",
    "    choiced_data = y_valid.loc[prediction_index].iloc[:choice_amount]\n",
    "    \n",
    "    return choiced_data"
   ]
  },
  {
   "cell_type": "markdown",
   "id": "965724dc",
   "metadata": {},
   "source": [
    "Создадим функцию, которая отберет 200 скважин, содержащих по предсказаниям ML-модели наибольшее количество сырья. Посчитает возможную прибыль с каждой скважины. Посчитаем суммарный объем запасов сырья этих скважен, суммарную возможную прибыль, валовую прибыль и валовую маржинальность."
   ]
  },
  {
   "cell_type": "code",
   "execution_count": 17,
   "id": "31a289a5",
   "metadata": {},
   "outputs": [],
   "source": [
    "def income_counter(input_data, input_prediction, cost, choice_amount, well_cost=0):\n",
    "    data = input_data.copy()\n",
    "    prediction = input_prediction.copy()\n",
    "    \n",
    "    #используем функцию отбора скважен\n",
    "    choiced_stock = choice_function(data, prediction, choice_amount)\n",
    "    \n",
    "    #создаем итоговый датафрейм\n",
    "    best_data = pd.DataFrame({'wells_stock': choiced_stock})\n",
    "    \n",
    "    #считаем доход с каждой скважины\n",
    "    best_data['income_from_well'] = best_data['wells_stock'] * cost\n",
    "    \n",
    "    # одновляем индексы\n",
    "    #best_data.reset_index(drop=True, inplace=True)           \n",
    "    \n",
    "    #считаем суммарный объем и возможный доход\n",
    "    sum_stock = best_data['wells_stock'].sum().round(3)\n",
    "    sum_income = best_data['income_from_well'].sum()\n",
    "\n",
    "    print(f'Суммарное значение объема сырья отобранных скважен равно {sum_stock} тыс. барралей')\n",
    "    print(f'Суммарный возможный доход с отобранных скважен равен {round(sum_income / 1e9, 3)} млрд.')\n",
    "\n",
    "    #считаем валовый доход и валовую маржинальность\n",
    "    if well_cost != 0:\n",
    "        gross_profit = sum_income - well_cost\n",
    "\n",
    "        gross_margin = gross_profit / sum_income\n",
    "\n",
    "        print(f'Суммарный возможный валовый доход с отобранных скважен равен {round(gross_profit / 1e9, 3)} млрд.')\n",
    "        print(f'Возможная валовая маржинальность с отобранных скважен равна {gross_margin.round(3)}')\n",
    "\n",
    "    return best_data, sum_stock, sum_income, gross_profit"
   ]
  },
  {
   "cell_type": "markdown",
   "id": "96da8beb",
   "metadata": {},
   "source": [
    "Применим данную функцию к первому, второму и третьему регионам и выведем интересующую информацию. Выведем первые строки полученных датафреймов. "
   ]
  },
  {
   "cell_type": "markdown",
   "id": "470feb23",
   "metadata": {},
   "source": [
    "**Расчеты для первого региона**"
   ]
  },
  {
   "cell_type": "code",
   "execution_count": 18,
   "id": "8aa5ba56",
   "metadata": {},
   "outputs": [
    {
     "name": "stdout",
     "output_type": "stream",
     "text": [
      "Суммарное значение объема сырья отобранных скважен равно 30243.186 тыс. барралей\n",
      "Суммарный возможный доход с отобранных скважен равен 13.609 млрд.\n",
      "Суммарный возможный валовый доход с отобранных скважен равен 3.609 млрд.\n",
      "Возможная валовая маржинальность с отобранных скважен равна 0.265\n"
     ]
    },
    {
     "data": {
      "text/html": [
       "<div>\n",
       "<style scoped>\n",
       "    .dataframe tbody tr th:only-of-type {\n",
       "        vertical-align: middle;\n",
       "    }\n",
       "\n",
       "    .dataframe tbody tr th {\n",
       "        vertical-align: top;\n",
       "    }\n",
       "\n",
       "    .dataframe thead th {\n",
       "        text-align: right;\n",
       "    }\n",
       "</style>\n",
       "<table border=\"1\" class=\"dataframe\">\n",
       "  <thead>\n",
       "    <tr style=\"text-align: right;\">\n",
       "      <th></th>\n",
       "      <th>wells_stock</th>\n",
       "      <th>income_from_well</th>\n",
       "    </tr>\n",
       "  </thead>\n",
       "  <tbody>\n",
       "    <tr>\n",
       "      <th>83095</th>\n",
       "      <td>144.009283</td>\n",
       "      <td>6.480418e+07</td>\n",
       "    </tr>\n",
       "    <tr>\n",
       "      <th>27658</th>\n",
       "      <td>140.631646</td>\n",
       "      <td>6.328424e+07</td>\n",
       "    </tr>\n",
       "    <tr>\n",
       "      <th>78948</th>\n",
       "      <td>162.153488</td>\n",
       "      <td>7.296907e+07</td>\n",
       "    </tr>\n",
       "    <tr>\n",
       "      <th>65743</th>\n",
       "      <td>176.807828</td>\n",
       "      <td>7.956352e+07</td>\n",
       "    </tr>\n",
       "    <tr>\n",
       "      <th>93716</th>\n",
       "      <td>130.985681</td>\n",
       "      <td>5.894356e+07</td>\n",
       "    </tr>\n",
       "  </tbody>\n",
       "</table>\n",
       "</div>"
      ],
      "text/plain": [
       "       wells_stock  income_from_well\n",
       "83095   144.009283      6.480418e+07\n",
       "27658   140.631646      6.328424e+07\n",
       "78948   162.153488      7.296907e+07\n",
       "65743   176.807828      7.956352e+07\n",
       "93716   130.985681      5.894356e+07"
      ]
     },
     "execution_count": 18,
     "metadata": {},
     "output_type": "execute_result"
    }
   ],
   "source": [
    "df_reg1, sum_stock_reg1, sum_income_reg1, sum_gross_profit_reg1 = income_counter(\n",
    "    y_valid_1, \n",
    "    prediction_1, \n",
    "    cost=BARRELS_PROFIT,\n",
    "    choice_amount=BEST_POINT_AMOUNT,\n",
    "    well_cost=WELLS_BUDGET\n",
    ")\n",
    "\n",
    "df_reg1.head()"
   ]
  },
  {
   "cell_type": "markdown",
   "id": "76e86e6b",
   "metadata": {},
   "source": [
    "**Расчеты для второго региона**"
   ]
  },
  {
   "cell_type": "code",
   "execution_count": 19,
   "id": "f218fa53",
   "metadata": {},
   "outputs": [
    {
     "name": "stdout",
     "output_type": "stream",
     "text": [
      "Суммарное значение объема сырья отобранных скважен равно 27589.082 тыс. барралей\n",
      "Суммарный возможный доход с отобранных скважен равен 12.415 млрд.\n",
      "Суммарный возможный валовый доход с отобранных скважен равен 2.415 млрд.\n",
      "Возможная валовая маржинальность с отобранных скважен равна 0.195\n"
     ]
    },
    {
     "data": {
      "text/html": [
       "<div>\n",
       "<style scoped>\n",
       "    .dataframe tbody tr th:only-of-type {\n",
       "        vertical-align: middle;\n",
       "    }\n",
       "\n",
       "    .dataframe tbody tr th {\n",
       "        vertical-align: top;\n",
       "    }\n",
       "\n",
       "    .dataframe thead th {\n",
       "        text-align: right;\n",
       "    }\n",
       "</style>\n",
       "<table border=\"1\" class=\"dataframe\">\n",
       "  <thead>\n",
       "    <tr style=\"text-align: right;\">\n",
       "      <th></th>\n",
       "      <th>wells_stock</th>\n",
       "      <th>income_from_well</th>\n",
       "    </tr>\n",
       "  </thead>\n",
       "  <tbody>\n",
       "    <tr>\n",
       "      <th>42738</th>\n",
       "      <td>137.945408</td>\n",
       "      <td>6.207543e+07</td>\n",
       "    </tr>\n",
       "    <tr>\n",
       "      <th>19483</th>\n",
       "      <td>137.945408</td>\n",
       "      <td>6.207543e+07</td>\n",
       "    </tr>\n",
       "    <tr>\n",
       "      <th>60464</th>\n",
       "      <td>137.945408</td>\n",
       "      <td>6.207543e+07</td>\n",
       "    </tr>\n",
       "    <tr>\n",
       "      <th>42432</th>\n",
       "      <td>137.945408</td>\n",
       "      <td>6.207543e+07</td>\n",
       "    </tr>\n",
       "    <tr>\n",
       "      <th>2242</th>\n",
       "      <td>137.945408</td>\n",
       "      <td>6.207543e+07</td>\n",
       "    </tr>\n",
       "  </tbody>\n",
       "</table>\n",
       "</div>"
      ],
      "text/plain": [
       "       wells_stock  income_from_well\n",
       "42738   137.945408      6.207543e+07\n",
       "19483   137.945408      6.207543e+07\n",
       "60464   137.945408      6.207543e+07\n",
       "42432   137.945408      6.207543e+07\n",
       "2242    137.945408      6.207543e+07"
      ]
     },
     "execution_count": 19,
     "metadata": {},
     "output_type": "execute_result"
    }
   ],
   "source": [
    "df_reg2, sum_stock_reg2, sum_income_reg2, sum_gross_profit_reg2 = income_counter(\n",
    "    y_valid_2, \n",
    "    prediction_2, \n",
    "    cost=BARRELS_PROFIT,\n",
    "    choice_amount=BEST_POINT_AMOUNT,\n",
    "    well_cost=WELLS_BUDGET\n",
    ")\n",
    "\n",
    "df_reg2.head()"
   ]
  },
  {
   "cell_type": "markdown",
   "id": "3642641e",
   "metadata": {},
   "source": [
    "**Расчеты для третьего региона**"
   ]
  },
  {
   "cell_type": "code",
   "execution_count": 20,
   "id": "25ffa369",
   "metadata": {},
   "outputs": [
    {
     "name": "stdout",
     "output_type": "stream",
     "text": [
      "Суммарное значение объема сырья отобранных скважен равно 27059.862 тыс. барралей\n",
      "Суммарный возможный доход с отобранных скважен равен 12.177 млрд.\n",
      "Суммарный возможный валовый доход с отобранных скважен равен 2.177 млрд.\n",
      "Возможная валовая маржинальность с отобранных скважен равна 0.179\n"
     ]
    },
    {
     "data": {
      "text/html": [
       "<div>\n",
       "<style scoped>\n",
       "    .dataframe tbody tr th:only-of-type {\n",
       "        vertical-align: middle;\n",
       "    }\n",
       "\n",
       "    .dataframe tbody tr th {\n",
       "        vertical-align: top;\n",
       "    }\n",
       "\n",
       "    .dataframe thead th {\n",
       "        text-align: right;\n",
       "    }\n",
       "</style>\n",
       "<table border=\"1\" class=\"dataframe\">\n",
       "  <thead>\n",
       "    <tr style=\"text-align: right;\">\n",
       "      <th></th>\n",
       "      <th>wells_stock</th>\n",
       "      <th>income_from_well</th>\n",
       "    </tr>\n",
       "  </thead>\n",
       "  <tbody>\n",
       "    <tr>\n",
       "      <th>3540</th>\n",
       "      <td>154.062998</td>\n",
       "      <td>6.932835e+07</td>\n",
       "    </tr>\n",
       "    <tr>\n",
       "      <th>98714</th>\n",
       "      <td>98.664401</td>\n",
       "      <td>4.439898e+07</td>\n",
       "    </tr>\n",
       "    <tr>\n",
       "      <th>6647</th>\n",
       "      <td>152.294162</td>\n",
       "      <td>6.853237e+07</td>\n",
       "    </tr>\n",
       "    <tr>\n",
       "      <th>69502</th>\n",
       "      <td>121.349438</td>\n",
       "      <td>5.460725e+07</td>\n",
       "    </tr>\n",
       "    <tr>\n",
       "      <th>41820</th>\n",
       "      <td>139.562959</td>\n",
       "      <td>6.280333e+07</td>\n",
       "    </tr>\n",
       "  </tbody>\n",
       "</table>\n",
       "</div>"
      ],
      "text/plain": [
       "       wells_stock  income_from_well\n",
       "3540    154.062998      6.932835e+07\n",
       "98714    98.664401      4.439898e+07\n",
       "6647    152.294162      6.853237e+07\n",
       "69502   121.349438      5.460725e+07\n",
       "41820   139.562959      6.280333e+07"
      ]
     },
     "execution_count": 20,
     "metadata": {},
     "output_type": "execute_result"
    }
   ],
   "source": [
    "df_reg3, sum_stock_reg3, sum_income_reg3, sum_gross_profit_reg3 = income_counter(\n",
    "    y_valid_3, \n",
    "    prediction_3, \n",
    "    cost=BARRELS_PROFIT,\n",
    "    choice_amount=BEST_POINT_AMOUNT,\n",
    "    well_cost=WELLS_BUDGET\n",
    ")\n",
    "\n",
    "df_reg3.head()"
   ]
  },
  {
   "cell_type": "markdown",
   "id": "38ac25a5",
   "metadata": {},
   "source": [
    "**График полученных значений по трем регионам**"
   ]
  },
  {
   "cell_type": "markdown",
   "id": "ec019aad",
   "metadata": {},
   "source": [
    "Для визуального сравнения полученных значений в трех регионах построим графики."
   ]
  },
  {
   "cell_type": "code",
   "execution_count": 21,
   "id": "b91e2fc9",
   "metadata": {},
   "outputs": [
    {
     "data": {
      "image/png": "[encoded data removed]",
      "text/plain": [
       "<Figure size 1700x700 with 3 Axes>"
      ]
     },
     "metadata": {},
     "output_type": "display_data"
    }
   ],
   "source": [
    "data_plot = pd.DataFrame({\n",
    "    'region':['region 1', 'region 2','region 3'],\n",
    "    'sum_stock':[sum_stock_reg1, sum_stock_reg2, sum_stock_reg3],\n",
    "    'sum_income':[sum_income_reg1, sum_income_reg2, sum_income_reg3],\n",
    "    'sum_gross_profit':[sum_gross_profit_reg1, sum_gross_profit_reg2, sum_gross_profit_reg3]},\n",
    ")\n",
    "\n",
    "sns.set_theme(style=\"whitegrid\")\n",
    "fig, axes = plt.subplots(1, 3, figsize=(17, 7))\n",
    "\n",
    "fig.suptitle('Comparing of values of different regions')\n",
    "\n",
    "sns.barplot(ax=axes[0], data=data_plot, x='region', y='sum_stock')\n",
    "sns.barplot(ax=axes[1], data=data_plot, x='region', y='sum_income')\n",
    "sns.barplot(ax=axes[2], data=data_plot, x='region', y='sum_gross_profit')\n",
    "\n",
    "axes[0].set_title('Comparing of sum stocks of regions wells')\n",
    "axes[1].set_title('Comparing of sum profit of regions wells')\n",
    "axes[2].set_title('Comparing of gross profit of regions wells')\n",
    "\n",
    "axes[0].set_ylabel('Sum stocks')\n",
    "axes[1].set_ylabel('Sum profit')\n",
    "axes[2].set_ylabel('Gross profit')\n",
    "\n",
    "plt.show()"
   ]
  },
  {
   "cell_type": "markdown",
   "id": "e777fe60",
   "metadata": {},
   "source": [
    "**Вывод:**\n",
    "\n",
    "При рассмотрении 200 скважин с наибольшим объемом сырья получается, что наибольший объем сырья и наибольший валовый доход имеет первый регион. Наименьшие значения данных показателей имеет третий регион."
   ]
  },
  {
   "cell_type": "markdown",
   "id": "c346fd3e",
   "metadata": {},
   "source": [
    "<div class=\"alert alert-block alert-info\">\n",
    "<b>Совет: </b> В этом блоке нужно было всего лишь определить одну функцию для подсчета. Остальные вычисления – дополнительные.\n",
    "</div>"
   ]
  },
  {
   "cell_type": "markdown",
   "id": "62efa1a7",
   "metadata": {},
   "source": [
    "### Расчёт рисков в регионах"
   ]
  },
  {
   "cell_type": "markdown",
   "id": "1e191272",
   "metadata": {},
   "source": [
    "Для расчета рисков создадим функцию, которая с помощью метода bootstrap сделает 1000 выборок и найдет суммарный доход в каждой выборке. После чего посчитаем 95% доверительный интервал. Посчитаем вероятность убытков, то есть отношение не окупившихся выборок к окупившимся."
   ]
  },
  {
   "cell_type": "code",
   "execution_count": 27,
   "id": "ba7e6554",
   "metadata": {},
   "outputs": [],
   "source": [
    "def bootstrap_model(y_valid, ml_prediction, total_amount, best_amount, cost, loss_border):\n",
    "    # зададем переменные\n",
    "    state = np.random.RandomState(12345)\n",
    "    data = y_valid.copy()\n",
    "    prediction = pd.Series(ml_prediction.copy(), index=y_valid.index)\n",
    "    \n",
    "    # создадим список для bootstrap\n",
    "    bootstrap_sum_list = []\n",
    "    \n",
    "    # применим метод bootstrap, так как по условиям задачи можно использовать только 500 скважин, отберем из них лучшие \n",
    "    # с помощью функции choice_function. После чего найдем суммарный доход и добавим его в список.\n",
    "    for i in range(1000):\n",
    "        \n",
    "        total_subsample = data.sample(n=total_amount, replace=True, random_state=state)\n",
    "        prediction_index = total_subsample.index\n",
    "        best_subsample_stock = choice_function(total_subsample, prediction[prediction_index], best_amount)\n",
    "        best_subsample_profit = best_subsample_stock * cost\n",
    "        bootstrap_sum_list.append(best_subsample_profit.sum())\n",
    "\n",
    "    # найдем среднюю валовую прибыль\n",
    "    bootstrap_profit = np.array(bootstrap_sum_list) - loss_border\n",
    "    bootstrap_mean_profit = np.mean(bootstrap_profit)\n",
    "    \n",
    "    # найдем доверительный интервал\n",
    "    confidence_interval = [np.quantile(bootstrap_profit, 0.025), np.quantile(bootstrap_profit, 0.975)]\n",
    "\n",
    "    # найдем вероятност убытка\n",
    "    loss_probabilety = (bootstrap_profit < 0).mean()\n",
    "    return bootstrap_mean_profit, confidence_interval, loss_probabilety"
   ]
  },
  {
   "cell_type": "markdown",
   "id": "f119c8a5",
   "metadata": {},
   "source": [
    "<div class=\"alert alert-block alert-danger\">\n",
    "<b>Ошибка:</b> Пожалуйста, напечатай размер best_subsample_stock. Подумай, почему так произошло?\n",
    "</div>"
   ]
  },
  {
   "cell_type": "markdown",
   "id": "57fefa95",
   "metadata": {},
   "source": [
    "<div class=\"alert alert-block alert-warning\">\n",
    "<b>Изменения:</b> Исправил ошибку в функции choice_function из-за которой в методе bootstrap попадали несколько значений с одинаковыми индексами.\n",
    "</div>"
   ]
  },
  {
   "cell_type": "markdown",
   "id": "1e6d9985",
   "metadata": {},
   "source": [
    "<div class=\"alert alert-block alert-success\">\n",
    "<b>Успех (ревью 2):</b> Хорошо.\n",
    "</div>"
   ]
  },
  {
   "cell_type": "markdown",
   "id": "36a848c3",
   "metadata": {},
   "source": [
    "<div class=\"alert alert-block alert-danger\">\n",
    "<b>Ошибка:</b> Для подсчета доверительного интервала стоит использовать метод квантилей, так как мы реализуем технику бутстрап.\n",
    "</div>"
   ]
  },
  {
   "cell_type": "markdown",
   "id": "9ca2cd71",
   "metadata": {},
   "source": [
    "<div class=\"alert alert-block alert-warning\">\n",
    "<b>Изменения:</b> Исправил.\n",
    "</div>"
   ]
  },
  {
   "cell_type": "markdown",
   "id": "3f49414d",
   "metadata": {},
   "source": [
    "<div class=\"alert alert-block alert-danger\">\n",
    "\n",
    "<b>Ошибка (ревью 2):</b> Правая граница посчитана неверно, так как `0.9975 - 0.025 != 0.05`.\n",
    "</div>"
   ]
  },
  {
   "cell_type": "markdown",
   "id": "26f69cd2",
   "metadata": {},
   "source": [
    "<div class=\"alert alert-block alert-warning\">\n",
    "<b>Изменения:</b> Исправил) \n",
    "</div>"
   ]
  },
  {
   "cell_type": "markdown",
   "id": "6cd4767f",
   "metadata": {},
   "source": [
    "<div class=\"alert alert-block alert-info\">\n",
    "\n",
    "<b>Совет: </b> Риск можно было найти чуть проще: `(values < 0).mean()`, если объект типа pandas Series или numpy array.\n",
    "</div>"
   ]
  },
  {
   "cell_type": "markdown",
   "id": "0e64217b",
   "metadata": {},
   "source": [
    "<div class=\"alert alert-block alert-warning\">\n",
    "<b>Изменения:</b> Подкорректировал.\n",
    "</div>"
   ]
  },
  {
   "cell_type": "markdown",
   "id": "2dbca1b6",
   "metadata": {},
   "source": [
    "<div class=\"alert alert-block alert-success\">\n",
    "<b>Успех (ревью 2):</b> Спасибо!\n",
    "</div>"
   ]
  },
  {
   "cell_type": "markdown",
   "id": "283a5d0c",
   "metadata": {},
   "source": [
    "<div class=\"alert alert-block alert-danger\">\n",
    "<b>Ошибка:</b> В этом шаге нужно еще посчитать среднее значение прибыли.\n",
    "</div>"
   ]
  },
  {
   "cell_type": "markdown",
   "id": "3b151653",
   "metadata": {},
   "source": [
    "<div class=\"alert alert-block alert-warning\">\n",
    "<b>Изменения:</b> Добавил подсчет среднего валового дохода.\n",
    "</div>"
   ]
  },
  {
   "cell_type": "markdown",
   "id": "dd2f65d1",
   "metadata": {},
   "source": [
    "<div class=\"alert alert-block alert-danger\">\n",
    "<b>Ошибка:</b> Все статистики (прибыль и интервал) должны быть посчитаны на прибыль, а не на выручку.\n",
    "</div>"
   ]
  },
  {
   "cell_type": "markdown",
   "id": "001b77d0",
   "metadata": {},
   "source": [
    "<div class=\"alert alert-block alert-warning\">\n",
    "<b>Изменения:</b> Исправил.\n",
    "</div>"
   ]
  },
  {
   "cell_type": "markdown",
   "id": "574ce5bd",
   "metadata": {},
   "source": [
    "<div class=\"alert alert-block alert-success\">\n",
    "<b>Успех (ревью 2):</b> Отлично!\n",
    "</div>"
   ]
  },
  {
   "cell_type": "markdown",
   "id": "d13ccc00",
   "metadata": {},
   "source": [
    "Создадим функцию, выводящую результаты работы метода bootstrap."
   ]
  },
  {
   "cell_type": "code",
   "execution_count": 28,
   "id": "cbce704d",
   "metadata": {},
   "outputs": [],
   "source": [
    "def show_result(mean_profit, confidence_interval, loss_probabilety, region_name):\n",
    "    \n",
    "    print(f'Среднее значение валовой выручки в {region_name.lower()} регионе равно {round(mean_profit / 1e9 , 3) } млрд.')\n",
    "    \n",
    "    print('Доверительный интервал валовой выручки в {0} регионе находится в диапазоне значений от {1} до {2} млрд.'.format(\n",
    "        region_name,\n",
    "        round(confidence_interval[0] / 1e9, 3),\n",
    "        round(confidence_interval[1] / 1e9, 3))\n",
    "         )\n",
    "    \n",
    "    print(f'Вероятность убытка в {region_name} регионе равна {loss_probabilety * 100} %.')"
   ]
  },
  {
   "cell_type": "markdown",
   "id": "b7c0548b",
   "metadata": {},
   "source": [
    "Применим функции для каждого региона."
   ]
  },
  {
   "cell_type": "code",
   "execution_count": 29,
   "id": "dd8cdc59",
   "metadata": {},
   "outputs": [
    {
     "name": "stdout",
     "output_type": "stream",
     "text": [
      "Среднее значение валовой выручки в первом регионе равно 0.451 млрд.\n",
      "Доверительный интервал валовой выручки в первом регионе находится в диапазоне значений от -0.072 до 0.96 млрд.\n",
      "Вероятность убытка в первом регионе равна 4.8 %.\n"
     ]
    }
   ],
   "source": [
    "mean_profit_reg1, confidence_interval_reg1, loss_probabilety_reg1 = bootstrap_model(y_valid_1,\n",
    "                                                                                  prediction_1,\n",
    "                                                                                  total_amount=500,\n",
    "                                                                                  best_amount=200,\n",
    "                                                                                  cost=BARRELS_PROFIT,\n",
    "                                                                                  loss_border=WELLS_BUDGET)\n",
    "\n",
    "show_result(mean_profit_reg1, confidence_interval_reg1, loss_probabilety_reg1, 'первом')"
   ]
  },
  {
   "cell_type": "code",
   "execution_count": 31,
   "id": "d2f5d5bd",
   "metadata": {},
   "outputs": [
    {
     "name": "stdout",
     "output_type": "stream",
     "text": [
      "Среднее значение валовой выручки в втором регионе равно 0.486 млрд.\n",
      "Доверительный интервал валовой выручки в втором регионе находится в диапазоне значений от 0.076 до 0.949 млрд.\n",
      "Вероятность убытка в втором регионе равна 1.2 %.\n"
     ]
    }
   ],
   "source": [
    "mean_profit_reg2, confidence_interval_reg2, loss_probabilety_reg2 = bootstrap_model(y_valid_2,\n",
    "                                                                                  prediction_2,\n",
    "                                                                                  total_amount=500,\n",
    "                                                                                  best_amount=200,\n",
    "                                                                                  cost=BARRELS_PROFIT,\n",
    "                                                                                  loss_border=WELLS_BUDGET)\n",
    "\n",
    "show_result(mean_profit_reg2, confidence_interval_reg2, loss_probabilety_reg2, 'втором')"
   ]
  },
  {
   "cell_type": "code",
   "execution_count": 32,
   "id": "bdd2dbcd",
   "metadata": {},
   "outputs": [
    {
     "name": "stdout",
     "output_type": "stream",
     "text": [
      "Среднее значение валовой выручки в третьем регионе равно 0.433 млрд.\n",
      "Доверительный интервал валовой выручки в третьем регионе находится в диапазоне значений от -0.132 до 0.93 млрд.\n",
      "Вероятность убытка в третьем регионе равна 6.3 %.\n"
     ]
    }
   ],
   "source": [
    "mean_profit_reg3, confidence_interval_reg3, loss_probabilety_reg3 = bootstrap_model(y_valid_3,\n",
    "                                                                                  prediction_3,\n",
    "                                                                                  total_amount=500,\n",
    "                                                                                  best_amount=200,\n",
    "                                                                                  cost=BARRELS_PROFIT,\n",
    "                                                                                  loss_border=WELLS_BUDGET)\n",
    "\n",
    "show_result(mean_profit_reg3, confidence_interval_reg3, loss_probabilety_reg3, 'третьем')"
   ]
  },
  {
   "cell_type": "markdown",
   "id": "a53275b6",
   "metadata": {},
   "source": [
    "**Вывод:** \n",
    "По условию задания нужно отбросить регионы, у которых вероятность убытка более 2,5%. По результатам исследования обнаружено, что значения вероятности убытка в первый и третий регион превышают допустимый предел. \n",
    "\n",
    "Максимальную вероятность убытка имеет третий регион в 6.3%.\n",
    "\n",
    "Минимальную вероятность убытка имеет второй регион в 1.2 %.\n",
    "\n",
    "Самый большой диапазон доверительного интервала валовой прибыли у второго региона от 0.076 до 0.949 млрд.\n",
    "\n",
    "Из вышеперечисленного можно сделать вывод, что наилучшем для разработки сырья регионом является второй регион, так как он имеет наименьшую вероятность убытка, наибольший доверительный диапазон возможной прибыли и наименьшую стандартную ошибку предсказанных ML-моделью объемов сырья."
   ]
  },
  {
   "cell_type": "markdown",
   "id": "573f8ab9",
   "metadata": {},
   "source": [
    "## Итоговый вывод"
   ]
  },
  {
   "cell_type": "markdown",
   "id": "2caf9e6b",
   "metadata": {},
   "source": [
    "В результате исследования объемов нефтяного сырья в трех регионах была проделана следующая работа:\n",
    "\n",
    "* Проведено предварительный анализ данных о регионах;\n",
    "\n",
    "* Для каждого региона построены ML-модели линейной регресси и на валидационной выборке предсказаны объёмы сырья в данном регионе;\n",
    "\n",
    "* Проведен расчет минимальное необходимого запаса сырья в скважине его сравнение с предсказанными средними значениями запасов скважин первого, второго и третьего регионов;\n",
    "\n",
    "* Проведены расчеты суммарных объемы 200 лучших скважен в каждом регионе. Найдены суммарные прибыли, валовый доход и валовая маржинальность для этих регионов. Построены графики получены значений;\n",
    "\n",
    "* Для регионов с помощью метода bootstrap получены доверительные интервалы и вероятности убытка.\n",
    "\n",
    "Из проделанной работы получены следующие выводы: \n",
    "\n",
    "* Наибольшее значение среднего запас сырья имеет третий регион равное 95.042 тыс. баррелей;\n",
    "\n",
    "* Наибольшее отношение среднего запаса сырья скважин к минимальному необходимому запасу имеет третий равный 0.855;\n",
    "\n",
    "* При рассмотрении 200 скважин с наибольшим объемом сырья наибольший объем сырья и наибольший валовый доход имеет первый регион.\n",
    "\n",
    "* Минимальную вероятность убытка в 1.2 % и самый большой диапазон доверительного интервала валовой прибыли от 0.076 до 0.949 млрд. имеет второй регион.\n",
    "\n",
    "\n",
    "По итогу исследования для разработки скважен нефтяного сырья рекомендуется выбрать второй регион, так как только данный регион удовлетворяет требованиям по допустимым значениям вероятности убытка."
   ]
  },
  {
   "cell_type": "markdown",
   "id": "ca103737",
   "metadata": {},
   "source": [
    "<div class=\"alert alert-block alert-success\">\n",
    "<b>Успех (ревью 2):</b> С выбором региона согласен.\n",
    "</div>"
   ]
  },
  {
   "cell_type": "markdown",
   "id": "d870bf80",
   "metadata": {},
   "source": [
    "## Чек-лист готовности проекта"
   ]
  },
  {
   "cell_type": "markdown",
   "id": "a6a2d094",
   "metadata": {},
   "source": [
    "- [x]  Jupyter Notebook открыт\n",
    "- [x]  Весь код выполняется без ошибок\n",
    "- [x]  Ячейки с кодом расположены в порядке исполнения\n",
    "- [x]  Выполнен шаг 1: данные подготовлены\n",
    "- [x]  Выполнен шаг 2: модели обучены и проверены\n",
    "    - [x]  Данные корректно разбиты на обучающую и валидационную выборки\n",
    "    - [x]  Модели обучены, предсказания сделаны\n",
    "    - [x]  Предсказания и правильные ответы на валидационной выборке сохранены\n",
    "    - [x]  На экране напечатаны результаты\n",
    "    - [x]  Сделаны выводы\n",
    "- [x]  Выполнен шаг 3: проведена подготовка к расчёту прибыли\n",
    "    - [x]  Для всех ключевых значений созданы константы Python\n",
    "    - [x]  Посчитано минимальное среднее количество продукта в месторождениях региона, достаточное для разработки\n",
    "    - [x]  По предыдущему пункту сделаны выводы\n",
    "    - [x]  Написана функция расчёта прибыли\n",
    "- [x]  Выполнен шаг 4: посчитаны риски и прибыль\n",
    "    - [x]  Проведена процедура *Bootstrap*\n",
    "    - [x]  Все параметры бутстрепа соответствуют условию\n",
    "    - [x]  Найдены все нужные величины\n",
    "    - [x]  Предложен регион для разработки месторождения\n",
    "    - [x]  Выбор региона обоснован"
   ]
  },
  {
   "cell_type": "code",
   "execution_count": null,
   "id": "18256608",
   "metadata": {},
   "outputs": [],
   "source": []
  }
 ],
 "metadata": {
  "ExecuteTimeLog": [
   {
    "duration": 1069,
    "start_time": "2022-03-02T17:10:24.999Z"
   },
   {
    "duration": -801,
    "start_time": "2022-03-02T17:10:26.872Z"
   },
   {
    "duration": -823,
    "start_time": "2022-03-02T17:10:26.896Z"
   },
   {
    "duration": -826,
    "start_time": "2022-03-02T17:10:26.900Z"
   },
   {
    "duration": -827,
    "start_time": "2022-03-02T17:10:26.903Z"
   },
   {
    "duration": -830,
    "start_time": "2022-03-02T17:10:26.907Z"
   },
   {
    "duration": -830,
    "start_time": "2022-03-02T17:10:26.909Z"
   },
   {
    "duration": -832,
    "start_time": "2022-03-02T17:10:26.912Z"
   },
   {
    "duration": -833,
    "start_time": "2022-03-02T17:10:26.915Z"
   },
   {
    "duration": -835,
    "start_time": "2022-03-02T17:10:26.918Z"
   },
   {
    "duration": -840,
    "start_time": "2022-03-02T17:10:26.924Z"
   },
   {
    "duration": -841,
    "start_time": "2022-03-02T17:10:26.927Z"
   },
   {
    "duration": -840,
    "start_time": "2022-03-02T17:10:26.928Z"
   },
   {
    "duration": -843,
    "start_time": "2022-03-02T17:10:26.932Z"
   }
  ],
  "kernelspec": {
   "display_name": "Python 3 (ipykernel)",
   "language": "python",
   "name": "python3"
  },
  "language_info": {
   "codemirror_mode": {
    "name": "ipython",
    "version": 3
   },
   "file_extension": ".py",
   "mimetype": "text/x-python",
   "name": "python",
   "nbconvert_exporter": "python",
   "pygments_lexer": "ipython3",
   "version": "3.9.7"
  },
  "toc": {
   "base_numbering": 1,
   "nav_menu": {},
   "number_sections": true,
   "sideBar": true,
   "skip_h1_title": true,
   "title_cell": "Table of Contents",
   "title_sidebar": "Contents",
   "toc_cell": false,
   "toc_position": {},
   "toc_section_display": true,
   "toc_window_display": false
  }
 },
 "nbformat": 4,
 "nbformat_minor": 5
}
